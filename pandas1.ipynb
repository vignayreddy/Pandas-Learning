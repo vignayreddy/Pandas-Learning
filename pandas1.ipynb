{
 "cells": [
  {
   "cell_type": "code",
   "execution_count": null,
   "id": "55868055-12c9-4e0e-8bd8-8c281d61105f",
   "metadata": {},
   "outputs": [],
   "source": [
    "import pandas as pd\n",
    "import numpy as np"
   ]
  },
  {
   "cell_type": "markdown",
   "id": "3a755b3a-2531-4bed-9030-48b7b1e3ef00",
   "metadata": {},
   "source": [
    "1)Working with pandas series"
   ]
  },
  {
   "cell_type": "markdown",
   "id": "ab99c1b7-cd83-45f1-8218-63e2960ea789",
   "metadata": {},
   "source": [
    "#a)Series through list"
   ]
  },
  {
   "cell_type": "code",
   "execution_count": 3,
   "id": "2a441991-d8a9-4fd1-9da4-988bb4d3c90e",
   "metadata": {
    "scrolled": true
   },
   "outputs": [
    {
     "name": "stdout",
     "output_type": "stream",
     "text": [
      "0    1\n",
      "1    2\n",
      "2    3\n",
      "3    4\n",
      "4    5\n",
      "dtype: int64\n"
     ]
    }
   ],
   "source": [
    "l1=[1,2,3,4,5]\n",
    "print(pd.Series(l1))"
   ]
  },
  {
   "cell_type": "markdown",
   "id": "8de93be1-81a3-4dcc-8ab8-ee242225d4f8",
   "metadata": {},
   "source": [
    "b)Series through numpy"
   ]
  },
  {
   "cell_type": "code",
   "execution_count": 6,
   "id": "05a9021b-1845-4e42-9548-ec7af68fed42",
   "metadata": {
    "scrolled": true
   },
   "outputs": [
    {
     "name": "stdout",
     "output_type": "stream",
     "text": [
      "0    1\n",
      "1    2\n",
      "2    3\n",
      "3    4\n",
      "4    5\n",
      "dtype: int64\n"
     ]
    }
   ],
   "source": [
    "b=np.array(l1)\n",
    "print(pd.Series(b))"
   ]
  },
  {
   "cell_type": "markdown",
   "id": "ef01328c-f853-4fb4-89f8-5c3b4a053c9b",
   "metadata": {},
   "source": [
    "#c)Giving index from our own"
   ]
  },
  {
   "cell_type": "markdown",
   "id": "ba953c7d",
   "metadata": {},
   "source": []
  },
  {
   "cell_type": "code",
   "execution_count": 7,
   "id": "f87e3182-d5d7-48e3-a9d3-45c21392044c",
   "metadata": {
    "scrolled": true
   },
   "outputs": [
    {
     "name": "stdout",
     "output_type": "stream",
     "text": [
      "vignay     0\n",
      "abhinay    1\n",
      "rahul      2\n",
      "vishal     3\n",
      "dtype: int64\n"
     ]
    }
   ],
   "source": [
    "c=pd.Series(index=[ 'vignay','abhinay','rahul','vishal'],data=[0,1,2,3])\n",
    "print(c)"
   ]
  },
  {
   "cell_type": "markdown",
   "id": "b5fb5876-f3aa-4da1-9635-3fca825681be",
   "metadata": {},
   "source": [
    "#d)Series through dictionary values"
   ]
  },
  {
   "cell_type": "code",
   "execution_count": 9,
   "id": "3ccf471a-5fc3-4554-b358-3841b9349261",
   "metadata": {},
   "outputs": [
    {
     "name": "stdout",
     "output_type": "stream",
     "text": [
      "1    a\n",
      "2    b\n",
      "3    c\n",
      "dtype: object\n",
      "******************************\n",
      "1    1\n",
      "2    1\n",
      "3    3\n",
      "dtype: int64\n"
     ]
    }
   ],
   "source": [
    "d1={1:'a',2:'b',3:'c'}\n",
    "print(pd.Series(d1))\n",
    "print(\"*\"*30)\n",
    "d2={'1':1,'2':1,'3':3}\n",
    "print(pd.Series(d2))"
   ]
  },
  {
   "cell_type": "markdown",
   "id": "5a1febeb-ffb9-4e0e-9c49-5ac14872f5b5",
   "metadata": {},
   "source": [
    "#e)Using a repeat function to create a series"
   ]
  },
  {
   "cell_type": "code",
   "execution_count": 10,
   "id": "42d6dcfd-4b82-4b26-9370-2974cde17141",
   "metadata": {},
   "outputs": [
    {
     "name": "stdout",
     "output_type": "stream",
     "text": [
      "0    1\n",
      "1    1\n",
      "2    1\n",
      "dtype: int64\n",
      "******************************\n",
      "   index  0\n",
      "0      0  1\n",
      "1      0  1\n",
      "2      0  1\n",
      "3      1  2\n",
      "4      1  2\n",
      "5      1  2\n",
      "6      2  3\n",
      "7      2  3\n",
      "8      2  3\n"
     ]
    }
   ],
   "source": [
    "print(pd.Series(1).repeat(3).reset_index(drop=True))\n",
    "print(\"*\"*30)\n",
    "print(pd.Series([1,2,3]).repeat(3).reset_index())"
   ]
  },
  {
   "cell_type": "markdown",
   "id": "3f08276c-9b82-4339-99f0-23578d21cf9b",
   "metadata": {},
   "source": [
    "#f)Accessing the Series elements"
   ]
  },
  {
   "cell_type": "code",
   "execution_count": 11,
   "id": "ec684fa0-184c-46fe-b001-857ae05d750a",
   "metadata": {},
   "outputs": [
    {
     "name": "stdout",
     "output_type": "stream",
     "text": [
      "1\n",
      "******************************\n",
      "0    1\n",
      "1    1\n",
      "2    1\n",
      "dtype: int64\n",
      "******************************\n",
      "0    1\n",
      "1    1\n",
      "dtype: int64\n",
      "******************************\n",
      "1    1\n",
      "dtype: int64\n",
      "******************************\n",
      "1\n"
     ]
    }
   ],
   "source": [
    "a=pd.Series(1).repeat(3).reset_index(drop=True)\n",
    "print(a[0])  #1\n",
    "print(\"*\"*30)\n",
    "print(a)\n",
    "print(\"*\"*30)\n",
    "print(a[0:2])\n",
    "print(\"*\"*30)\n",
    "print(a[1:-1])\n",
    "print(\"*\"*30)\n",
    "print(a[1])#1"
   ]
  },
  {
   "cell_type": "markdown",
   "id": "87e2b738-b65d-4aa7-b84f-7da47b8c030a",
   "metadata": {},
   "source": [
    "#g)Aggregate function on pandas series"
   ]
  },
  {
   "cell_type": "code",
   "execution_count": 15,
   "id": "d4a3d41c-a3b9-437a-9148-ed063ad03de0",
   "metadata": {
    "scrolled": true
   },
   "outputs": [
    {
     "name": "stdout",
     "output_type": "stream",
     "text": [
      "7\n",
      "1\n",
      "28\n"
     ]
    }
   ],
   "source": [
    "s=pd.Series([1,2,3,4,5,6,7])\n",
    "print(max(s))#7\n",
    "print(min(s))\n",
    "print(sum(s))\n",
    "# print(s.agg([min,max,sum]))-------------------------------------------------------------"
   ]
  },
  {
   "cell_type": "markdown",
   "id": "fec83240-073d-489d-902b-118a0e005b13",
   "metadata": {},
   "source": [
    "#h)Series absolute function"
   ]
  },
  {
   "cell_type": "code",
   "execution_count": 16,
   "id": "a71a697a-d540-4810-ba98-768a9408dfc4",
   "metadata": {
    "scrolled": true
   },
   "outputs": [
    {
     "name": "stdout",
     "output_type": "stream",
     "text": [
      "0    1\n",
      "1    2\n",
      "2    3\n",
      "3    4\n",
      "4    5\n",
      "5    6\n",
      "6    7\n",
      "dtype: int64\n"
     ]
    }
   ],
   "source": [
    "a=pd.Series([-1,-2,3,4,-5,6,7])\n",
    "print(a.abs())"
   ]
  },
  {
   "cell_type": "markdown",
   "id": "e92672d3-ead2-496d-9ea5-867e325b2170",
   "metadata": {},
   "source": [
    "#i)Appending Series"
   ]
  },
  {
   "cell_type": "code",
   "execution_count": 17,
   "id": "bc7b0e9e-dc87-4374-a2a8-d677431d2b79",
   "metadata": {
    "scrolled": true
   },
   "outputs": [
    {
     "name": "stdout",
     "output_type": "stream",
     "text": [
      "0     1\n",
      "1     2\n",
      "2     3\n",
      "3     4\n",
      "4     5\n",
      "5     6\n",
      "6     7\n",
      "7     8\n",
      "8     1\n",
      "9     2\n",
      "10    3\n",
      "11    4\n",
      "12    5\n",
      "13   -1\n",
      "dtype: int64\n"
     ]
    }
   ],
   "source": [
    "a=pd.Series([1,2,3,4,5,6,7,8])\n",
    "b=pd.Series([1,2,3,4,5,-1])\n",
    "print(a._append(b).reset_index(drop=True))"
   ]
  },
  {
   "cell_type": "markdown",
   "id": "43154d48-4656-470f-b3a4-e847547cc514",
   "metadata": {},
   "source": [
    "#j)Astype  function"
   ]
  },
  {
   "cell_type": "code",
   "execution_count": 21,
   "id": "cb6d7e37-7c4e-4585-8b15-b1678f1b02fd",
   "metadata": {
    "scrolled": true
   },
   "outputs": [
    {
     "name": "stdout",
     "output_type": "stream",
     "text": [
      "<class 'pandas.core.series.Series'>\n",
      "<class 'numpy.int64'>\n",
      "0    1.0\n",
      "1    2.0\n",
      "2    3.0\n",
      "3    4.0\n",
      "4    5.0\n",
      "5    6.0\n",
      "6    7.0\n",
      "7    8.0\n",
      "dtype: float64\n",
      "******************************\n",
      "0    1\n",
      "1    2\n",
      "2    3\n",
      "3    4\n",
      "4    5\n",
      "5    6\n",
      "6    7\n",
      "7    8\n",
      "dtype: object\n",
      "******************************\n",
      "0    True\n",
      "1    True\n",
      "2    True\n",
      "3    True\n",
      "4    True\n",
      "5    True\n",
      "6    True\n",
      "7    True\n",
      "dtype: bool\n"
     ]
    }
   ],
   "source": [
    "print(type(a))\n",
    "print(type(a[0]))\n",
    "print(a.astype(float))\n",
    "print(\"*\"*30)\n",
    "print(a.astype(str))\n",
    "print(\"*\"*30)\n",
    "print(a.astype(bool))"
   ]
  },
  {
   "cell_type": "markdown",
   "id": "9009d935-35c9-441e-9574-9f0aa977a92d",
   "metadata": {},
   "source": [
    "#K)Between function"
   ]
  },
  {
   "cell_type": "code",
   "execution_count": 22,
   "id": "fe58fa2a-1c7f-4256-916c-a301ce9bfd88",
   "metadata": {
    "scrolled": true
   },
   "outputs": [
    {
     "name": "stdout",
     "output_type": "stream",
     "text": [
      "0    False\n",
      "1    False\n",
      "2     True\n",
      "3    False\n",
      "4    False\n",
      "5    False\n",
      "6    False\n",
      "7    False\n",
      "8    False\n",
      "9     True\n",
      "dtype: bool\n"
     ]
    }
   ],
   "source": [
    "a=pd.Series([1,2,30,4,5,6,7,8,9,10])\n",
    "print(a.between(10,50))"
   ]
  },
  {
   "cell_type": "markdown",
   "id": "4744e99a-591f-46da-949e-34651f66d7a4",
   "metadata": {},
   "source": [
    "#l)All strings functions  can be used to extract or modify texts in a series"
   ]
  },
  {
   "cell_type": "code",
   "execution_count": 23,
   "id": "531e6df7-73df-4a78-a43d-9e566225323c",
   "metadata": {
    "scrolled": true
   },
   "outputs": [
    {
     "name": "stdout",
     "output_type": "stream",
     "text": [
      "0    VIGNAY REDDY MUDUGANTI\n",
      "1             REVANTH REDDY\n",
      "2                     VARUN\n",
      "3                  VAISHNAV\n",
      "dtype: object\n",
      "******************************\n",
      "0    vignay reddy muduganti\n",
      "1             revanth reddy\n",
      "2                     varun\n",
      "3                  vaishnav\n",
      "dtype: object\n",
      "******************************\n",
      "Vignay reddy muduganti 22\n",
      "REVANTH REDDY 13\n",
      "varun 5\n",
      "vaishnav 8\n"
     ]
    }
   ],
   "source": [
    "a=pd.Series([\"Vignay reddy muduganti\",\"REVANTH REDDY\",\"varun\",\"vaishnav\"])\n",
    "print(a.str.upper())\n",
    "print(\"*\"*30)\n",
    "print(a.str.lower())\n",
    "print(\"*\"*30)\n",
    "for i in a:\n",
    "    print(i,len(i))"
   ]
  },
  {
   "cell_type": "markdown",
   "id": "a6ea6ac8-77cd-41e0-872d-1b8e31c3c4cc",
   "metadata": {},
   "source": [
    "#m)String Split functions"
   ]
  },
  {
   "cell_type": "code",
   "execution_count": 25,
   "id": "daa8f809-1efe-4284-83c9-6f5e45eec9e9",
   "metadata": {},
   "outputs": [
    {
     "name": "stdout",
     "output_type": "stream",
     "text": [
      "0    [Vignay, reddy, muduganti]\n",
      "1              [REVANTH, REDDY]\n",
      "2                       [varun]\n",
      "3                    [vaishnav]\n",
      "dtype: object\n",
      "******************************\n",
      "['10', '3', '1983']\n",
      "******************************\n",
      "['10', '3', '1994']\n",
      "******************************\n",
      "['29', '10', '1998']\n"
     ]
    }
   ],
   "source": [
    "print(a.str.split())\n",
    "print(\"*\"*30)\n",
    "print(pd.Series(['10/3/1983','10/3/1994','29/10/1998']).str.split('/')[0])\n",
    "print(\"*\"*30)\n",
    "print(pd.Series(['10/3/1983','10/3/1994','29/10/1998']).str.split('/')[1])\n",
    "print(\"*\"*30)\n",
    "print(pd.Series(['10/3/1983','10/3/1994','29/10/1998']).str.split('/')[2])"
   ]
  },
  {
   "cell_type": "markdown",
   "id": "499d6eba-4330-4891-9cbe-e1cc5f63c663",
   "metadata": {},
   "source": [
    "#n)contains function"
   ]
  },
  {
   "cell_type": "code",
   "execution_count": 26,
   "id": "17d1e962-c430-4dd9-8e37-30fc70b234e0",
   "metadata": {
    "scrolled": true
   },
   "outputs": [
    {
     "name": "stdout",
     "output_type": "stream",
     "text": [
      "0    False\n",
      "1     True\n",
      "2    False\n",
      "3    False\n",
      "dtype: bool\n"
     ]
    }
   ],
   "source": [
    "a=pd.Series([\"Vignay reddy muduganti\",\"REVANTH REDDY\",\"varun\",\"vaishnav\"])\n",
    "print(a.str.contains('A'))"
   ]
  },
  {
   "cell_type": "markdown",
   "id": "e61c32ee-8c79-4c16-88d7-a7c8467ba855",
   "metadata": {},
   "source": [
    "#o)Replace Function"
   ]
  },
  {
   "cell_type": "code",
   "execution_count": 27,
   "id": "89f66516-9b1d-494d-92cb-55771296d90c",
   "metadata": {
    "scrolled": true
   },
   "outputs": [
    {
     "name": "stdout",
     "output_type": "stream",
     "text": [
      "0    Vignay reddy muduganti\n",
      "1             REV NTH REDDY\n",
      "2                     varun\n",
      "3                  vaishnav\n",
      "dtype: object\n"
     ]
    }
   ],
   "source": [
    "a=pd.Series([\"Vignay reddy muduganti\",\"REVANTH REDDY\",\"varun\",\"vaishnav\"])\n",
    "print(a.str.replace('A',\" \"))"
   ]
  },
  {
   "cell_type": "markdown",
   "id": "04ca7583-b7c0-4ca1-86e5-b1203d05af39",
   "metadata": {},
   "source": [
    "#P)Count function"
   ]
  },
  {
   "cell_type": "code",
   "execution_count": 28,
   "id": "781dd7b6-653c-4574-bb4e-81a9d7b81acd",
   "metadata": {
    "scrolled": true
   },
   "outputs": [
    {
     "name": "stdout",
     "output_type": "stream",
     "text": [
      "0    2\n",
      "1    0\n",
      "2    1\n",
      "3    2\n",
      "dtype: int64\n"
     ]
    }
   ],
   "source": [
    "a=pd.Series([\"Vignay reddy muduganti\",\"REVANTH REDDY\",\"varun\",\"vaishnav\"])\n",
    "print(a.str.count('a'))"
   ]
  },
  {
   "cell_type": "markdown",
   "id": "1307c399-845f-44c6-88ac-d237466cef2c",
   "metadata": {},
   "source": [
    "#Q)Startswith and Endswith"
   ]
  },
  {
   "cell_type": "code",
   "execution_count": 30,
   "id": "3574f77d-f4d3-4d5f-aae9-feff03bdce27",
   "metadata": {
    "scrolled": true
   },
   "outputs": [
    {
     "name": "stdout",
     "output_type": "stream",
     "text": [
      "0     True\n",
      "1    False\n",
      "2    False\n",
      "3    False\n",
      "dtype: bool\n",
      "******************************\n",
      "0    False\n",
      "1    False\n",
      "2    False\n",
      "3     True\n",
      "dtype: bool\n"
     ]
    }
   ],
   "source": [
    "print(a.str.startswith('V'))\n",
    "print(\"*\"*30)\n",
    "print(a.str.endswith('v'))"
   ]
  },
  {
   "cell_type": "markdown",
   "id": "d1d9b1e6-c04e-4a7a-9247-db7a4d3f6757",
   "metadata": {},
   "source": [
    "#R)Find function"
   ]
  },
  {
   "cell_type": "code",
   "execution_count": 31,
   "id": "a6fd7542-be89-45dc-9c16-45d6b860cf44",
   "metadata": {
    "scrolled": true
   },
   "outputs": [
    {
     "name": "stdout",
     "output_type": "stream",
     "text": [
      "0   -1\n",
      "1   -1\n",
      "2    0\n",
      "3   -1\n",
      "dtype: int64\n"
     ]
    }
   ],
   "source": [
    "#Evaluates the entire string-------------------------------------------------------\n",
    "print(a.str.find(\"varun\"))"
   ]
  },
  {
   "cell_type": "markdown",
   "id": "0287bfbf-7324-4a60-bf24-4abfbed9cca6",
   "metadata": {},
   "source": [
    "#S)Converting a Series to List"
   ]
  },
  {
   "cell_type": "code",
   "execution_count": 32,
   "id": "af7c9e47-8097-4879-88cb-77db19e70a83",
   "metadata": {
    "scrolled": true
   },
   "outputs": [
    {
     "name": "stdout",
     "output_type": "stream",
     "text": [
      "<class 'list'>\n"
     ]
    }
   ],
   "source": [
    "b=a.to_list()\n",
    "print(type(b))"
   ]
  },
  {
   "cell_type": "markdown",
   "id": "1909d985-3365-4c2e-8e5a-d4401436b882",
   "metadata": {},
   "source": [
    "#2)Detailed Coding Implementations on pandas DataFrame"
   ]
  },
  {
   "cell_type": "markdown",
   "id": "c3bfd451-c6ee-4d51-8006-cd74575a2c86",
   "metadata": {},
   "source": [
    "#a)Creating dataframe from a dictionary of ndarray/lists"
   ]
  },
  {
   "cell_type": "code",
   "execution_count": 34,
   "id": "11935929-0fb7-48ba-8362-ef8a3f284fe9",
   "metadata": {
    "scrolled": true
   },
   "outputs": [
    {
     "name": "stdout",
     "output_type": "stream",
     "text": [
      "<class 'pandas.core.frame.DataFrame'>\n",
      "******************************\n",
      "             0\n",
      "0      welcome\n",
      "1           to\n",
      "2          cvr\n",
      "3      college\n",
      "4           of\n",
      "5  enginerring\n",
      "******************************\n",
      "[['vignay', 'C4'], ['Revanth', 'C3'], ['Vaishnav', 'C5']]\n",
      "******************************\n",
      "          0   1\n",
      "0    vignay  C4\n",
      "1   Revanth  C3\n",
      "2  Vaishnav  C5\n",
      "******************************\n",
      "{'Name': ['vignay', 'varun', 'revanth', 'vaishnav'], 'Age': [18, 19, 20, 21]}\n",
      "******************************\n",
      "       Name  Age\n",
      "0    vignay   18\n",
      "1     varun   19\n",
      "2   revanth   20\n",
      "3  vaishnav   21\n",
      "******************************\n",
      "       Name Qualifications\n",
      "0    vignay            M.S\n",
      "1     varun          Btech\n",
      "2   revanth            C.A\n",
      "3  vaishnav        M.B.B.S\n"
     ]
    }
   ],
   "source": [
    "lst=['welcome','to','cvr','college','of','enginerring']\n",
    "print(type(pd.DataFrame(lst)))\n",
    "print(\"*\"*30)\n",
    "print(pd.DataFrame(lst))\n",
    "print(\"*\"*30)\n",
    "lst=[['vignay','C4'],['Revanth','C3'],['Vaishnav','C5']]\n",
    "print(lst)\n",
    "print(\"*\"*30)\n",
    "print(pd.DataFrame(lst))\n",
    "print(\"*\"*30)\n",
    "data={'Name':[\"vignay\",\"varun\",\"revanth\",\"vaishnav\"],'Age':[18,19,20,21]}\n",
    "print(data)\n",
    "print(\"*\"*30)\n",
    "print(pd.DataFrame(data))\n",
    "print(\"*\"*30)\n",
    "data={'Name':[\"vignay\",\"varun\",\"revanth\",\"vaishnav\"],\n",
    "      'Age':[18,19,20,21],\n",
    "      'Address':[\"usa\",\"uk\",\"canada\",\"india\"],\n",
    "      'Qualifications':['M.S',\"Btech\",\"C.A\",\"M.B.B.S\"]}\n",
    "a=pd.DataFrame(data)\n",
    "b=a[['Name','Qualifications']]\n",
    "print(b)"
   ]
  },
  {
   "cell_type": "markdown",
   "id": "539b9fb7-e06b-4573-8608-ed1fe450228b",
   "metadata": {},
   "source": [
    "#b)Slicing in dataframes using Iloc and Loc (location and indexlocation)---------------------------------------------------------                iloc takes last element also whereas loc does not------- iloc is only index based"
   ]
  },
  {
   "cell_type": "code",
   "execution_count": 7,
   "id": "41b68842-18af-45ae-ae1a-ff72b633d0a2",
   "metadata": {
    "scrolled": true
   },
   "outputs": [
    {
     "name": "stdout",
     "output_type": "stream",
     "text": [
      "   one  two  three  four\n",
      "0    1   10    100  1000\n",
      "1    2   20    200  2000\n",
      "2    3   30    300  3000\n",
      "3    4   40    400  4000\n",
      "   one  two  three  four\n",
      "1    2   20    200  2000\n",
      "2    3   30    300  3000\n",
      "3    4   40    400  4000\n",
      "****************************************************************************************************\n",
      "   one  two  three  four\n",
      "3    4   40    400  4000\n",
      "2    3   30    300  3000\n",
      "1    2   20    200  2000\n",
      "0    1   10    100  1000\n",
      "****************************************************************************************************\n",
      "   two  three  four\n",
      "1   20    200  2000\n",
      "2   30    300  3000\n",
      "****************************************************************************************************\n",
      "   one  two  three  four\n",
      "1    2   20    200  2000\n",
      "****************************************************************************************************\n",
      "   two  three\n",
      "1   20    200\n",
      "2   30    300\n",
      "****************************************************************************************************\n",
      "   three\n",
      "0    100\n",
      "1    200\n",
      "2    300\n",
      "3    400\n",
      "****************************************************************************************************\n",
      "   one  two  three  four\n",
      "0    1   10    100  1000\n",
      "2    3   30    300  3000\n",
      "****************************************************************************************************\n",
      "   two  four\n",
      "0   10  1000\n",
      "2   30  3000\n"
     ]
    }
   ],
   "source": [
    "data={'one':pd.Series([1,2,3,4]),\n",
    "      'two':pd.Series([10,20,30,40]),\n",
    "      'three':pd.Series([100,200,300,400]),\n",
    "      'four':pd.Series([1000,2000,3000,4000])\n",
    "      }\n",
    "a=pd.DataFrame(data)\n",
    "print(a)\n",
    "print(a.loc[1:])\n",
    "print(\"*\"*100)\n",
    "print(a.loc[::-1])\n",
    "print(\"*\"*100)\n",
    "print(a.loc[1:2,'two':'four'])\n",
    "print(\"*\"*100)\n",
    "print(a.iloc[1:2])\n",
    "print(\"*\"*100)\n",
    "print(a.iloc[1:-1,1:-1])\n",
    "print(\"*\"*100)\n",
    "print(a.iloc[:,2:3])\n",
    "print(\"*\"*100)\n",
    "print(a.iloc[[0,2]])\n",
    "print(\"*\"*100)\n",
    "print(a.iloc[[0,2],[1,3]])"
   ]
  },
  {
   "cell_type": "markdown",
   "id": "e517eb1d-eb1b-4d87-b853-e8b187bde9c0",
   "metadata": {},
   "source": [
    "#c)Slicing Using Conditions"
   ]
  },
  {
   "cell_type": "code",
   "execution_count": 37,
   "id": "04105bf4-6e78-41ae-8a39-db2bb1fdfd2e",
   "metadata": {
    "scrolled": true
   },
   "outputs": [
    {
     "name": "stdout",
     "output_type": "stream",
     "text": [
      "0    False\n",
      "1    False\n",
      "2     True\n",
      "3     True\n",
      "Name: two, dtype: bool\n",
      "******************************\n",
      "   one  two  three  four\n",
      "2    3   30    300  3000\n",
      "3    4   40    400  4000\n",
      "******************************\n",
      "   three  four\n",
      "2    300  3000\n",
      "3    400  4000\n",
      "******************************\n",
      "   one  four\n",
      "0    1  1000\n",
      "1    2  2000\n"
     ]
    }
   ],
   "source": [
    "print(a['two']>20)\n",
    "print(\"*\"*30)\n",
    "print(a[a['two']>20])\n",
    "print(\"*\"*30)\n",
    "c=a.loc[a['two']>20,[\"three\",\"four\"]]\n",
    "print(c)\n",
    "print(\"*\"*30)\n",
    "print(a.loc[a['three']<300,['one','four']])"
   ]
  },
  {
   "cell_type": "markdown",
   "id": "45b849cb-3875-49cf-bdf3-47c1ca4997de",
   "metadata": {},
   "source": [
    "#d)Column addition in DataFrame"
   ]
  },
  {
   "cell_type": "code",
   "execution_count": 38,
   "id": "df22fb40-0079-4dfa-aefd-8c05bb830d42",
   "metadata": {
    "scrolled": true
   },
   "outputs": [
    {
     "name": "stdout",
     "output_type": "stream",
     "text": [
      "   one  two  three  four\n",
      "0    1   10    100  1000\n",
      "1    2   20    200  2000\n",
      "2    3   30    300  3000\n",
      "3    4   40    400  4000\n",
      "   one  two  three  four  five\n",
      "0    1   10    100  1000    22\n",
      "1    2   20    200  2000    33\n",
      "2    3   30    300  3000    44\n",
      "3    4   40    400  4000    55\n",
      "******************************\n",
      "   one  two  three  four  five  six\n",
      "0    1   10    100  1000    22  111\n",
      "1    2   20    200  2000    33  222\n",
      "2    3   30    300  3000    44  333\n",
      "3    4   40    400  4000    55  444\n",
      "******************************\n",
      "   one  two  three  four  five  six  seven\n",
      "0    1   10    100  1000    22  111     11\n",
      "1    2   20    200  2000    33  222     12\n",
      "2    3   30    300  3000    44  333     13\n",
      "3    4   40    400  4000    55  444     14\n",
      "******************************\n",
      "   one  two  three  four  five  six  seven  eight\n",
      "0    1   10    100  1000    22  111     11    0.1\n",
      "1    2   20    200  2000    33  222     12    0.2\n",
      "2    3   30    300  3000    44  333     13    0.3\n",
      "3    4   40    400  4000    55  444     14    0.4\n",
      "******************************\n"
     ]
    }
   ],
   "source": [
    "print(a)\n",
    "l=[22,33,44,55]\n",
    "a['five']=l\n",
    "print(a)\n",
    "print(\"*\"*30)\n",
    "l1=pd.Series([111,222,333,444])\n",
    "a['six']=l1\n",
    "print(a)\n",
    "print(\"*\"*30)\n",
    "a['seven']=a['one']+10\n",
    "print(a)\n",
    "print(\"*\"*30)\n",
    "a['eight']=a['one']/10\n",
    "print(a)\n",
    "print(\"*\"*30)"
   ]
  },
  {
   "cell_type": "markdown",
   "id": "09b66f9a-f0a3-43ac-892e-21cf41e90bc6",
   "metadata": {},
   "source": [
    "#e)Column deletion in DataFrames\n",
    "#USING del\n",
    "#USING pop"
   ]
  },
  {
   "cell_type": "code",
   "execution_count": 39,
   "id": "e507fbbb-d01c-496c-9384-9eea0896fe7f",
   "metadata": {
    "scrolled": true
   },
   "outputs": [
    {
     "name": "stdout",
     "output_type": "stream",
     "text": [
      "   one  two  three  four  five  six  seven\n",
      "0    1   10    100  1000    22  111     11\n",
      "1    2   20    200  2000    33  222     12\n",
      "2    3   30    300  3000    44  333     13\n",
      "3    4   40    400  4000    55  444     14\n",
      "******************************\n",
      "0    11\n",
      "1    12\n",
      "2    13\n",
      "3    14\n",
      "Name: seven, dtype: int64\n",
      "******************************\n",
      "   one  two  three  four  five  six\n",
      "0    1   10    100  1000    22  111\n",
      "1    2   20    200  2000    33  222\n",
      "2    3   30    300  3000    44  333\n",
      "3    4   40    400  4000    55  444\n"
     ]
    }
   ],
   "source": [
    "del a['eight']\n",
    "print(a)\n",
    "print(\"*\"*30)\n",
    "print(a.pop('seven'))\n",
    "print(\"*\"*30)\n",
    "print(a)"
   ]
  },
  {
   "cell_type": "markdown",
   "id": "7c6e1d3e-e15c-4f2c-b548-028887e51415",
   "metadata": {},
   "source": [
    "#f)Addition of rows"
   ]
  },
  {
   "cell_type": "code",
   "execution_count": 41,
   "id": "f036e4d3-6d99-42a2-a947-d3cbead66992",
   "metadata": {
    "scrolled": true
   },
   "outputs": [
    {
     "name": "stdout",
     "output_type": "stream",
     "text": [
      "   a  b\n",
      "0  1  2\n",
      "1  3  4\n",
      "******************************\n",
      "   a  b\n",
      "0  5  6\n",
      "1  7  8\n",
      "******************************\n",
      "   a  b\n",
      "0  1  2\n",
      "1  3  4\n",
      "2  5  6\n",
      "3  7  8\n",
      "******************************\n"
     ]
    }
   ],
   "source": [
    "d1=pd.DataFrame([[1,2],[3,4]],columns=['a','b'])\n",
    "d2=pd.DataFrame([[5,6],[7,8]],columns=['a','b'])\n",
    "print(d1)\n",
    "print(\"*\"*30)\n",
    "print(d2)\n",
    "print(\"*\"*30)\n",
    "print(d1._append(d2).reset_index(drop=True))\n",
    "print(\"*\"*30)"
   ]
  },
  {
   "cell_type": "markdown",
   "id": "db20167e-fbe8-4ace-b67a-b98886025e72",
   "metadata": {},
   "source": [
    "#g)Pandas drop function"
   ]
  },
  {
   "cell_type": "code",
   "execution_count": 42,
   "id": "f7628e06-5ce3-4654-8006-53424e18b713",
   "metadata": {
    "scrolled": true
   },
   "outputs": [
    {
     "name": "stdout",
     "output_type": "stream",
     "text": [
      "   one  two  three  four\n",
      "0    1   10    100  1000\n",
      "1    2   20    200  2000\n",
      "2    3   30    300  3000\n",
      "3    4   40    400  4000\n",
      "******************************\n",
      "   one  two  three  four\n",
      "2    3   30    300  3000\n",
      "3    4   40    400  4000\n",
      "******************************\n",
      "   two  four\n",
      "0   10  1000\n",
      "1   20  2000\n",
      "2   30  3000\n",
      "3   40  4000\n",
      "******************************\n",
      "   one  two  three  four\n",
      "0    1   10    100  1000\n",
      "1    2   20    200  2000\n",
      "2    3   30    300  3000\n",
      "3    4   40    400  4000\n",
      "******************************\n",
      "   two  four\n",
      "0   10  1000\n",
      "1   20  2000\n",
      "2   30  3000\n",
      "3   40  4000\n"
     ]
    }
   ],
   "source": [
    "data={'one':pd.Series([1,2,3,4]),\n",
    "      'two':pd.Series([10,20,30,40]),\n",
    "      'three':pd.Series([100,200,300,400]),\n",
    "      'four':pd.Series([1000,2000,3000,4000])\n",
    "      }\n",
    "a=pd.DataFrame(data)\n",
    "print(a)\n",
    "print(\"*\"*30)\n",
    "# axis=0-->row wise--------------------------------------------------------------------------------------------------------------\n",
    "# axis=1-->column wise-----------------------------------------------------------------------------------------------------------\n",
    "print(a.drop([0,1],axis=0))\n",
    "print(\"*\"*30)\n",
    "print(a.drop(['one','three'],axis=1))\n",
    "print(\"*\"*30)\n",
    "print(a)\n",
    "print(\"*\"*30)\n",
    "c=a.drop(['one','three'],axis=1,inplace=True)#-----------------\n",
    "print(a)"
   ]
  },
  {
   "cell_type": "markdown",
   "id": "69615a6f-083a-4574-bbef-8fe7055e359a",
   "metadata": {},
   "source": [
    "#h)Transposing a DataFrame"
   ]
  },
  {
   "cell_type": "code",
   "execution_count": 3,
   "id": "0dc878f8-6f9c-4502-9651-99cb9f01390a",
   "metadata": {
    "scrolled": true
   },
   "outputs": [
    {
     "name": "stdout",
     "output_type": "stream",
     "text": [
      "   one  two  three  four\n",
      "0    1   10    100  1000\n",
      "1    2   20    200  2000\n",
      "2    3   30    300  3000\n",
      "3    4   40    400  4000\n",
      "******************************\n",
      "          0     1     2     3\n",
      "one       1     2     3     4\n",
      "two      10    20    30    40\n",
      "three   100   200   300   400\n",
      "four   1000  2000  3000  4000\n"
     ]
    }
   ],
   "source": [
    "data={'one':pd.Series([1,2,3,4]),\n",
    "      'two':pd.Series([10,20,30,40]),\n",
    "      'three':pd.Series([100,200,300,400]),\n",
    "      'four':pd.Series([1000,2000,3000,4000])\n",
    "      }\n",
    "a=pd.DataFrame(data)\n",
    "print(a)\n",
    "print(\"*\"*30)\n",
    "b=a.T\n",
    "print(b)"
   ]
  },
  {
   "cell_type": "markdown",
   "id": "d1b7016e-176c-479b-bf97-4433173bffb3",
   "metadata": {},
   "source": [
    "#i)A set of more DataFrame Functionalities"
   ]
  },
  {
   "cell_type": "markdown",
   "id": "cb2b0756-071a-46ba-9ac8-f5bb364ad802",
   "metadata": {},
   "source": [
    "#1)Axis"
   ]
  },
  {
   "cell_type": "code",
   "execution_count": 4,
   "id": "796e847d-08dc-42f1-a6c6-c0d3007df737",
   "metadata": {
    "scrolled": true
   },
   "outputs": [
    {
     "name": "stdout",
     "output_type": "stream",
     "text": [
      "[RangeIndex(start=0, stop=4, step=1), Index(['one', 'two', 'three', 'four'], dtype='object')]\n"
     ]
    }
   ],
   "source": [
    "print(a.axes)"
   ]
  },
  {
   "cell_type": "markdown",
   "id": "a38d3aab-589a-497f-b2f4-0dd5262e6664",
   "metadata": {},
   "source": [
    "#2)ndim function\n",
    "2------for a data frame-always (rows and columns)"
   ]
  },
  {
   "cell_type": "code",
   "execution_count": 5,
   "id": "152f5575-dbdb-4741-a4cf-b9bec02faa29",
   "metadata": {
    "scrolled": true
   },
   "outputs": [
    {
     "name": "stdout",
     "output_type": "stream",
     "text": [
      "2\n"
     ]
    }
   ],
   "source": [
    "print(a.ndim)"
   ]
  },
  {
   "cell_type": "markdown",
   "id": "b67adff9-476b-4ef6-9b6f-c2c12d777226",
   "metadata": {},
   "source": [
    "#3)dtypes function"
   ]
  },
  {
   "cell_type": "code",
   "execution_count": 6,
   "id": "50696783-c944-40b1-9298-d772723b0cdf",
   "metadata": {
    "scrolled": true
   },
   "outputs": [
    {
     "name": "stdout",
     "output_type": "stream",
     "text": [
      "one      int64\n",
      "two      int64\n",
      "three    int64\n",
      "four     int64\n",
      "dtype: object\n"
     ]
    }
   ],
   "source": [
    "print(a.dtypes)"
   ]
  },
  {
   "cell_type": "markdown",
   "id": "b2e6f240-2238-4d64-96f6-0c49453a1e44",
   "metadata": {},
   "source": [
    "#4)shape function"
   ]
  },
  {
   "cell_type": "code",
   "execution_count": 7,
   "id": "ecef74b2-b4c3-4012-8418-82e2ad49b71e",
   "metadata": {
    "scrolled": true
   },
   "outputs": [
    {
     "name": "stdout",
     "output_type": "stream",
     "text": [
      "(4, 4)\n"
     ]
    }
   ],
   "source": [
    "print(a.shape)"
   ]
  },
  {
   "cell_type": "markdown",
   "id": "aaccf157-dec3-4404-8da2-6c38a6f354e2",
   "metadata": {},
   "source": [
    "#5)head() function"
   ]
  },
  {
   "cell_type": "code",
   "execution_count": 8,
   "id": "b943d43f-cb90-4b0d-b8b2-430bb13ab826",
   "metadata": {
    "scrolled": true
   },
   "outputs": [
    {
     "name": "stdout",
     "output_type": "stream",
     "text": [
      "     name  age  Height\n",
      "0     tom   10    3.25\n",
      "1  jerrry   12    1.11\n",
      "2   olive   14    4.12\n",
      "3   spike   30    5.47\n",
      "4   popey   28    6.15\n",
      "5  mickey   33    6.67\n",
      "6   bluto   15    2.61\n",
      "******************************\n",
      "     name  age  Height\n",
      "0     tom   10    3.25\n",
      "1  jerrry   12    1.11\n",
      "2   olive   14    4.12\n",
      "3   spike   30    5.47\n",
      "4   popey   28    6.15\n",
      "******************************\n",
      "     name  age  Height\n",
      "0     tom   10    3.25\n",
      "1  jerrry   12    1.11\n",
      "2   olive   14    4.12\n"
     ]
    }
   ],
   "source": [
    "d={'name':pd.Series([\"tom\",\"jerrry\",'olive','spike','popey','mickey','bluto']),\n",
    "   'age':pd.Series([10,12,14,30,28,33,15]),\n",
    "   'Height':pd.Series([3.25,1.11,4.12,5.47,6.15,6.67,2.61])\n",
    "   }\n",
    "a=pd.DataFrame(d)\n",
    "print(a)\n",
    "#This head() method returns first n rows (by default=5) of the dataframe\n",
    "print(\"*\"*30)\n",
    "print(a.head())\n",
    "print(\"*\"*30)\n",
    "print(a.head(3))\n",
    "#No error when more number is given all are printed-------------------------------------------------"
   ]
  },
  {
   "cell_type": "markdown",
   "id": "f080afb3-5893-4a2a-b656-a489e38eb006",
   "metadata": {},
   "source": [
    "#6)Tail() function"
   ]
  },
  {
   "cell_type": "code",
   "execution_count": 10,
   "id": "eec927a5-9aff-4c36-841b-1a65209965c1",
   "metadata": {
    "scrolled": true
   },
   "outputs": [
    {
     "name": "stdout",
     "output_type": "stream",
     "text": [
      "     Team  Rank  Year  Points\n",
      "7      SA     1  2017     824\n",
      "8      NZ     2  2016     758\n",
      "9      NZ     4  2014     691\n",
      "10     NZ     1  2015     883\n",
      "11  India     2  2017     782\n"
     ]
    }
   ],
   "source": [
    "print(a.tail())\n",
    "#Prints last five values by default similar to head()"
   ]
  },
  {
   "cell_type": "markdown",
   "id": "2fc3ffb2-af83-4a0d-baef-f39597213222",
   "metadata": {},
   "source": [
    "#7)empty function\n",
    "#Tells whether dataframe is empty or not"
   ]
  },
  {
   "cell_type": "code",
   "execution_count": 11,
   "id": "c41e3bb7-b91d-4365-af9b-b782776d0834",
   "metadata": {
    "scrolled": true
   },
   "outputs": [
    {
     "name": "stdout",
     "output_type": "stream",
     "text": [
      "False\n",
      "True\n"
     ]
    }
   ],
   "source": [
    "print(a.empty)\n",
    "df=pd.DataFrame([])\n",
    "print(df.empty)"
   ]
  },
  {
   "cell_type": "markdown",
   "id": "f25207bf-a200-4d86-a08a-1d2d0f810f5d",
   "metadata": {},
   "source": [
    "#j)Statistical or Mathematical Functions"
   ]
  },
  {
   "cell_type": "code",
   "execution_count": 12,
   "id": "67c169fa-f501-48a4-9b15-82baf54f6de4",
   "metadata": {
    "scrolled": true
   },
   "outputs": [
    {
     "name": "stdout",
     "output_type": "stream",
     "text": [
      "   one  two  three  four\n",
      "0    1   10    100  1000\n",
      "1    2   20    200  2000\n",
      "2    3   30    300  3000\n",
      "3    4   40    400  4000\n",
      "******************************\n",
      "one         10\n",
      "two        100\n",
      "three     1000\n",
      "four     10000\n",
      "dtype: int64\n",
      "******************************\n",
      "one         2.5\n",
      "two        25.0\n",
      "three     250.0\n",
      "four     2500.0\n",
      "dtype: float64\n",
      "******************************\n",
      "one         2.5\n",
      "two        25.0\n",
      "three     250.0\n",
      "four     2500.0\n",
      "dtype: float64\n",
      "******************************\n",
      "   A   B\n",
      "0  1  10\n",
      "1  2  20\n",
      "2  2  20\n",
      "3  3  30\n",
      "4  4  40\n",
      "5  4  40\n",
      "6  4  50\n",
      "7  5  60\n",
      "******************************\n",
      "0    4\n",
      "Name: A, dtype: int64\n",
      "******************************\n",
      "0    20\n",
      "1    40\n",
      "Name: B, dtype: int64\n",
      "A      1.839286\n",
      "B    283.928571\n",
      "dtype: float64\n",
      "******************************\n",
      "A     1\n",
      "B    10\n",
      "dtype: int64\n",
      "******************************\n",
      "A     5\n",
      "B    60\n",
      "dtype: int64\n",
      "******************************\n",
      "A     1.356203\n",
      "B    16.850180\n",
      "dtype: float64\n"
     ]
    }
   ],
   "source": [
    "data={'one':pd.Series([1,2,3,4]),\n",
    "      'two':pd.Series([10,20,30,40]),\n",
    "      'three':pd.Series([100,200,300,400]),\n",
    "      'four':pd.Series([1000,2000,3000,4000])\n",
    "      }\n",
    "a=pd.DataFrame(data)\n",
    "print(a)\n",
    "print(\"*\"*30)\n",
    "#a)sum()\n",
    "print(a.sum())\n",
    "print(\"*\"*30)\n",
    "#b)mean()\n",
    "print(a.mean())\n",
    "print(\"*\"*30)\n",
    "#c)median()\n",
    "print(a.median())\n",
    "print(\"*\"*30)\n",
    "#d)mode()\n",
    "d=pd.DataFrame({'A':[1,2,2,3,4,4,4,5],\n",
    "                'B':[10,20,20,30,40,40,50,60]}\n",
    "               )\n",
    "print(d)\n",
    "print(\"*\"*30)\n",
    "print(d['A'].mode())\n",
    "print(\"*\"*30)\n",
    "print(d['B'].mode())\n",
    "#e)variance()\n",
    "print(d.var())\n",
    "print(\"*\"*30)\n",
    "#f)min() function\n",
    "print(d.min())\n",
    "print(\"*\"*30)\n",
    "#g)max() function\n",
    "print(d.max())\n",
    "print(\"*\"*30)\n",
    "#h)Standard Deviation() function\n",
    "print(d.std())"
   ]
  },
  {
   "cell_type": "markdown",
   "id": "d113c30b-39a1-4cb6-9f55-6dc509a09d9d",
   "metadata": {},
   "source": [
    "#k)Describe Function"
   ]
  },
  {
   "cell_type": "code",
   "execution_count": 13,
   "id": "e6351cdf-1451-4c4c-a0e6-93f581d17608",
   "metadata": {
    "scrolled": true
   },
   "outputs": [
    {
     "name": "stdout",
     "output_type": "stream",
     "text": [
      "            one        two       three         four\n",
      "count  4.000000   4.000000    4.000000     4.000000\n",
      "mean   2.500000  25.000000  250.000000  2500.000000\n",
      "std    1.290994  12.909944  129.099445  1290.994449\n",
      "min    1.000000  10.000000  100.000000  1000.000000\n",
      "25%    1.750000  17.500000  175.000000  1750.000000\n",
      "50%    2.500000  25.000000  250.000000  2500.000000\n",
      "75%    3.250000  32.500000  325.000000  3250.000000\n",
      "max    4.000000  40.000000  400.000000  4000.000000\n"
     ]
    }
   ],
   "source": [
    "data={'one':pd.Series([1,2,3,4]),\n",
    "      'two':pd.Series([10,20,30,40]),\n",
    "      'three':pd.Series([100,200,300,400]),\n",
    "      'four':pd.Series([1000,2000,3000,4000]),\n",
    "      'five':pd.Series(['A','B','C','D'])\n",
    "      }\n",
    "a=pd.DataFrame(data)\n",
    "print(a.describe())"
   ]
  },
  {
   "cell_type": "markdown",
   "id": "4e7cf2bc-d9df-4be7-9741-cca238d7efe8",
   "metadata": {},
   "source": [
    "l)Pipe function"
   ]
  },
  {
   "cell_type": "markdown",
   "id": "68338b98-1104-4c54-ad12-dfb07f19d54a",
   "metadata": {},
   "source": [
    "#1)Pipe Function"
   ]
  },
  {
   "cell_type": "code",
   "execution_count": 8,
   "id": "93fd81b2-36fd-48de-af4f-486045653ca7",
   "metadata": {
    "scrolled": true
   },
   "outputs": [
    {
     "name": "stdout",
     "output_type": "stream",
     "text": [
      "   one  two  three  four\n",
      "0    1   10    100  1000\n",
      "1    2   20    200  2000\n",
      "2    3   30    300  3000\n",
      "3    4   40    400  4000\n",
      "******************************\n",
      "   one  two  three  four\n",
      "0   11   20    110  1010\n",
      "1   12   30    210  2010\n",
      "2   13   40    310  3010\n",
      "3   14   50    410  4010\n",
      "******************************\n",
      "one         2.5\n",
      "two        25.0\n",
      "three     250.0\n",
      "four     2500.0\n",
      "dtype: float64\n",
      "******************************\n",
      "   one   two   three      four\n",
      "0    1   100   10000   1000000\n",
      "1    4   400   40000   4000000\n",
      "2    9   900   90000   9000000\n",
      "3   16  1600  160000  16000000\n",
      "******************************\n",
      "one            6.25\n",
      "two          625.00\n",
      "three      62500.00\n",
      "four     6250000.00\n",
      "dtype: float64\n"
     ]
    }
   ],
   "source": [
    "data={'one':pd.Series([1,2,3,4]),\n",
    "      'two':pd.Series([10,20,30,40]),\n",
    "      'three':pd.Series([100,200,300,400]),\n",
    "      'four':pd.Series([1000,2000,3000,4000])\n",
    "      }\n",
    "a=pd.DataFrame(data)\n",
    "print(a)\n",
    "print(\"*\"*30)\n",
    "def  add(i,j):\n",
    "    return i+j\n",
    "def sub(i,j):\n",
    "    return i-j\n",
    "print(a.pipe(add,10))\n",
    "print(\"*\"*30)\n",
    "def mean(col):\n",
    "    return col.mean()\n",
    "def square(i):\n",
    "    return i**2\n",
    "print(a.pipe(mean))\n",
    "print(\"*\"*30)\n",
    "print(a.pipe(square))\n",
    "print(\"*\"*30)\n",
    "print(a.pipe(mean).pipe(square))"
   ]
  },
  {
   "cell_type": "markdown",
   "id": "c3bc3a42-176b-4999-8fa2-72ee89ceb631",
   "metadata": {},
   "source": [
    "#2)Apply Function"
   ]
  },
  {
   "cell_type": "code",
   "execution_count": 6,
   "id": "f383cc7d-f007-4670-a6d2-93cca6a15cff",
   "metadata": {
    "scrolled": true
   },
   "outputs": [
    {
     "name": "stdout",
     "output_type": "stream",
     "text": [
      "   one  two  three  four\n",
      "0    1   10    100  1000\n",
      "1    2   20    200  2000\n",
      "2    3   30    300  3000\n",
      "3    4   40    400  4000\n",
      "******************************\n",
      "one         2.5\n",
      "two        25.0\n",
      "three     250.0\n",
      "four     2500.0\n",
      "dtype: float64\n",
      "******************************\n",
      "   one   two   three      four\n",
      "0    1   100   10000   1000000\n",
      "1    4   400   40000   4000000\n",
      "2    9   900   90000   9000000\n",
      "3   16  1600  160000  16000000\n",
      "******************************\n",
      "one         3\n",
      "two        30\n",
      "three     300\n",
      "four     3000\n",
      "dtype: int64\n"
     ]
    }
   ],
   "source": [
    "data={'one':pd.Series([1,2,3,4]),\n",
    "      'two':pd.Series([10,20,30,40]),\n",
    "      'three':pd.Series([100,200,300,400]),\n",
    "      'four':pd.Series([1000,2000,3000,4000])\n",
    "      }\n",
    "a=pd.DataFrame(data)\n",
    "print(a)\n",
    "print(\"*\"*30)\n",
    "print(a.apply(np.mean))\n",
    "print(\"*\"*30)\n",
    "print(a.apply(square))\n",
    "print(\"*\"*30)\n",
    "print(a.apply(lambda x:x.max()-x.min()))"
   ]
  },
  {
   "cell_type": "markdown",
   "id": "c6c7d76a-45e5-45aa-855b-97c9a2e8bd89",
   "metadata": {},
   "source": [
    "#3)Apply map or map function\n",
    "#Applymap has beeen deprecated from  the python ----------------"
   ]
  },
  {
   "cell_type": "code",
   "execution_count": 7,
   "id": "e29c365b-6c4c-4c46-b4a4-80a769e99737",
   "metadata": {
    "scrolled": true
   },
   "outputs": [
    {
     "name": "stdout",
     "output_type": "stream",
     "text": [
      "   one   two  three    four\n",
      "0  100  1000  10000  100000\n",
      "1  200  2000  20000  200000\n",
      "2  300  3000  30000  300000\n",
      "3  400  4000  40000  400000\n",
      "******************************\n",
      "     A    B\n",
      "0  1.2  7.8\n",
      "1  3.4  9.1\n",
      "2  5.6  2.3\n",
      "******************************\n",
      "   A  B\n",
      "0  1  7\n",
      "1  3  9\n",
      "2  5  2\n",
      "******************************\n",
      "0    4.50\n",
      "1    6.25\n",
      "2    3.95\n",
      "dtype: float64\n"
     ]
    }
   ],
   "source": [
    "print(a.map(lambda x:x*100))\n",
    "print(\"*\"*30)\n",
    "#Element wise operation only\n",
    "a=pd.DataFrame({'A':[1.2,3.4,5.6],\n",
    "                'B':[7.8,9.1,2.3]})\n",
    "print(a)\n",
    "print(\"*\"*30)\n",
    "b=a.map(np.int64)\n",
    "print(b)\n",
    "print(\"*\"*30)\n",
    "# print(b.map(lambda row:row.mean(),axis=1))------------------#ERROR--------------------\n",
    "c=a.apply(lambda row:row.mean(),axis=1)\n",
    "print(c)"
   ]
  },
  {
   "cell_type": "markdown",
   "id": "58bb14a4-d684-4c17-8beb-4f5c5a5ffdd3",
   "metadata": {},
   "source": [
    "#m)Reindex Function"
   ]
  },
  {
   "cell_type": "code",
   "execution_count": 8,
   "id": "12c918b7-12f8-42e8-a258-b06e6cd574d0",
   "metadata": {
    "scrolled": true
   },
   "outputs": [
    {
     "name": "stdout",
     "output_type": "stream",
     "text": [
      "   one  two  three  four\n",
      "0    1   10    100  1000\n",
      "1    2   20    200  2000\n",
      "2    3   30    300  3000\n",
      "3    4   40    400  4000\n",
      "******************************\n",
      "   one  two  three  four\n",
      "0    1   10    100  1000\n",
      "1    2   20    200  2000\n",
      "2    3   30    300  3000\n",
      "3    4   40    400  4000\n",
      "******************************\n",
      "   Name         City  Age\n",
      "0  John     New York   25\n",
      "1  Jane  Los Angeles   30\n",
      "2   Jim      Chicago   35\n",
      "3  Joan      Houston   40\n",
      "******************************\n"
     ]
    }
   ],
   "source": [
    "data={'one':pd.Series([1,2,3,4]),\n",
    "      'two':pd.Series([10,20,30,40]),\n",
    "      'three':pd.Series([100,200,300,400]),\n",
    "      'four':pd.Series([1000,2000,3000,4000])\n",
    "      }\n",
    "a=pd.DataFrame(data)\n",
    "print(a)\n",
    "print(\"*\"*30)\n",
    "#ROWS REINDEXING\n",
    "b=a.reindex([0,1,2,3])\n",
    "print(b)\n",
    "print(\"*\"*30)\n",
    "#COLUMN REINDEXING\n",
    "data={'Name':['John','Jane','Jim','Joan'],\n",
    "      'Age':[25,30,35,40],\n",
    "      'City':['New York','Los Angeles','Chicago','Houston']}\n",
    "a=pd.DataFrame(data)\n",
    "c=a.reindex(index=[0,1,2,3],columns=[\"Name\",'City',\"Age\"])\n",
    "print(c)\n",
    "print(\"*\"*30)"
   ]
  },
  {
   "cell_type": "markdown",
   "id": "e7379200-3dff-474d-95f9-61ee2c7bb4f3",
   "metadata": {},
   "source": [
    "#We can't change the index but we can change the referringindex-----------\n",
    "#n)Renaming Columns in pandas DataFrame"
   ]
  },
  {
   "cell_type": "code",
   "execution_count": 9,
   "id": "afcd416b-109d-4826-a424-ed8de1698527",
   "metadata": {
    "scrolled": true
   },
   "outputs": [
    {
     "name": "stdout",
     "output_type": "stream",
     "text": [
      "   One  Two  Three  Four\n",
      "0    1   10    100  1000\n",
      "1    2   20    200  2000\n",
      "2    3   30    300  3000\n",
      "3    4   40    400  4000\n",
      "******************************\n",
      "   One  Two  Three  Four\n",
      "a    1   10    100  1000\n",
      "b    2   20    200  2000\n",
      "c    3   30    300  3000\n",
      "d    4   40    400  4000\n",
      "******************************\n",
      "   One  Two  Three  Four\n",
      "a    1   10    100  1000\n",
      "b    2   20    200  2000\n",
      "c    3   30    300  3000\n",
      "d    4   40    400  4000\n",
      "******************************\n"
     ]
    }
   ],
   "source": [
    "data={'one':pd.Series([1,2,3,4]),\n",
    "      'two':pd.Series([10,20,30,40]),\n",
    "      'three':pd.Series([100,200,300,400]),\n",
    "      'four':pd.Series([1000,2000,3000,4000])\n",
    "      }\n",
    "a=pd.DataFrame(data)\n",
    "print(a.rename(columns={'one':'One','two':'Two',\"three\":\"Three\",'four':\"Four\"}))\n",
    "print(\"*\"*30)\n",
    "#Inplace make the data change in original dataframes-------------------------------------------------\n",
    "print(a.rename(columns={'one':'One','two':'Two',\"three\":\"Three\",'four':\"Four\"},index={0:'a',1:'b',2:'c',3:'d'}))\n",
    "print(\"*\"*30)\n",
    "a.rename(columns={'one':'One','two':'Two',\"three\":\"Three\",'four':\"Four\"},inplace=True,index={0:'a',1:'b',2:'c',3:'d'})\n",
    "print(a)\n",
    "print(\"*\"*30)\n",
    "#inplace returns  none                                           "
   ]
  },
  {
   "cell_type": "markdown",
   "id": "013f9285-59ea-45c8-a01c-801c4c27e741",
   "metadata": {},
   "source": [
    "#O)Sorting in Pandas DataFrames"
   ]
  },
  {
   "cell_type": "code",
   "execution_count": 11,
   "id": "ef24c41a-d490-4d73-8c27-b1d2e2f60408",
   "metadata": {
    "scrolled": true
   },
   "outputs": [
    {
     "name": "stdout",
     "output_type": "stream",
     "text": [
      "   one  two  three  four\n",
      "1   21   20    200  2000\n",
      "2   31   30    300  3000\n",
      "3   41   40    400  4000\n",
      "0  111   10    100  1000\n",
      "******************************\n",
      "   one  two  three  four\n",
      "0  111   10    100  1000\n",
      "3   41   40    400  4000\n",
      "2   31   30    300  3000\n",
      "1   21   20    200  2000\n",
      "******************************\n",
      "   one  two  three  four\n",
      "1   21   20    200  2000\n",
      "2   31   30    300  3000\n",
      "3   41   40    400  4000\n",
      "0  111   10    100  1000\n",
      "******************************\n",
      "   one  two  three  four\n",
      "1   21   20    200  2000\n",
      "2   31   30    300  3000\n",
      "3   41   40    400  4000\n",
      "0  111   10    100  1000\n",
      "******************************\n"
     ]
    }
   ],
   "source": [
    "data={'one':pd.Series([111,21,31,41]),\n",
    "      'two':pd.Series([10,20,30,40]),\n",
    "      'three':pd.Series([100,200,300,400]),\n",
    "      'four':pd.Series([1000,2000,3000,4000])\n",
    "      }\n",
    "a=pd.DataFrame(data)\n",
    "#Sort with respect to specified column\n",
    "print(a.sort_values(by=\"one\"))\n",
    "print(\"*\"*30)\n",
    "#Sort in specific value\n",
    "print(a.sort_values(by=\"one\",ascending=False))\n",
    "print(\"*\"*30)\n",
    "#Sort in specific Order on multiple Columns\n",
    "print(a.sort_values(by=['one','two']))\n",
    "print(\"*\"*30)\n",
    "#Sort with specific Sorting Algorithm<br>\n",
    "#Quicksort,Mergesort,Heapsort\n",
    "print(a.sort_values(by=['one'],kind=\"heapsort\"))\n",
    "print(\"*\"*30)"
   ]
  },
  {
   "cell_type": "markdown",
   "id": "dbf0e3b9-ca8c-4c75-9893-03e2967ab0f1",
   "metadata": {},
   "source": [
    "#p)Groupby functions"
   ]
  },
  {
   "cell_type": "code",
   "execution_count": 12,
   "id": "d4fffa25-3c30-4958-9eb9-ea4a4a57e89a",
   "metadata": {
    "scrolled": true
   },
   "outputs": [
    {
     "name": "stdout",
     "output_type": "stream",
     "text": [
      "         Team  Rank  Year  Points\n",
      "0       India     2  2014     876\n",
      "1       India     3  2015     801\n",
      "2   Australia     4  2014     891\n",
      "3   Australia     2  2015     815\n",
      "4          SA     3  2014     776\n",
      "5          SA     4  2015     784\n",
      "6          SA     1  2016     834\n",
      "7          SA     1  2017     824\n",
      "8          NZ     2  2016     758\n",
      "9          NZ     4  2014     691\n",
      "10         NZ     1  2015     883\n",
      "11      India     2  2017     782\n",
      "******************************\n",
      "<pandas.core.groupby.generic.DataFrameGroupBy object at 0x000001F843663800>\n",
      "******************************\n",
      "{'Australia': [2, 3], 'India': [0, 1, 11], 'NZ': [8, 9, 10], 'SA': [4, 5, 6, 7]}\n",
      "******************************\n",
      "        Team  Rank  Year  Points\n",
      "2  Australia     4  2014     891\n",
      "******************************\n",
      "Team\n",
      "Australia    1706\n",
      "India        2459\n",
      "NZ           2332\n",
      "SA           3218\n",
      "Name: Points, dtype: int64\n",
      "******************************\n",
      "Team\n",
      "Australia    1706\n",
      "India        2459\n",
      "NZ           2332\n",
      "SA           3218\n",
      "Name: Points, dtype: int64\n",
      "******************************\n",
      "Team\n",
      "Australia    1706\n",
      "NZ           2332\n",
      "India        2459\n",
      "SA           3218\n",
      "Name: Points, dtype: int64\n",
      "******************************\n",
      "<pandas.core.groupby.generic.DataFrameGroupBy object at 0x000001F84398EF00>\n",
      "******************************\n",
      "Team\n",
      "Australia    1706\n",
      "India        2459\n",
      "NZ           2332\n",
      "SA           3218\n",
      "Name: Points, dtype: int64\n",
      "******************************\n",
      "            sum        mean        std  max  min\n",
      "Team                                            \n",
      "Australia  1706  853.000000  53.740115  891  815\n",
      "India      2459  819.666667  49.702448  876  782\n",
      "NZ         2332  777.333333  97.449132  883  691\n",
      "SA         3218  804.500000  28.769196  834  776\n",
      "******************************\n",
      "  Team  Rank  Year  Points\n",
      "4   SA     3  2014     776\n",
      "5   SA     4  2015     784\n",
      "6   SA     1  2016     834\n",
      "7   SA     1  2017     824\n",
      "******************************\n",
      "     Team  Rank  Year  Points\n",
      "0   India     2  2014     876\n",
      "1   India     3  2015     801\n",
      "8      NZ     2  2016     758\n",
      "9      NZ     4  2014     691\n",
      "10     NZ     1  2015     883\n",
      "11  India     2  2017     782\n"
     ]
    }
   ],
   "source": [
    "cricket={\"Team\":['India','India','Australia','Australia','SA','SA','SA','SA','NZ','NZ','NZ','India'],\n",
    "         \"Rank\":[2,3,4,2,3,4,1,1,2,4,1,2],\n",
    "         \"Year\":[2014,2015,2014,2015,2014,2015,2016,2017,2016,2014,2015,2017],\n",
    "         \"Points\":[876,801,891,815,776,784,834,824,758,691,883,782]\n",
    "         }\n",
    "a=pd.DataFrame(cricket)\n",
    "print(a)\n",
    "print(\"*\"*30)\n",
    "#****************************************************---Important one\n",
    "print(a.groupby('Team'))\n",
    "print(\"*\"*30)\n",
    "print(a.groupby('Team').groups)\n",
    "print(\"*\"*30)\n",
    "#To search for specific Country with specific year\n",
    "print(a.groupby(['Team','Year']).get_group(('Australia',2014)))\n",
    "print(\"*\"*30)\n",
    "\n",
    "\n",
    "#If data is not present then we get an error\n",
    "#     raise KeyError(gpr)\n",
    "# KeyError: 'USA')\n",
    "\n",
    "\n",
    "#Adding statistical Computation on top of groupby\n",
    "print(a.groupby('Team')['Points'].sum()) #or\n",
    "print(\"*\"*30)\n",
    "print(a.groupby('Team').sum()['Points'])\n",
    "print(\"*\"*30)\n",
    "print(a.groupby('Team').sum()['Points'].sort_values())#ascending=False\n",
    "print(\"*\"*30)\n",
    "#Checking multiple stats for points team wise\n",
    "groups=a.groupby('Team')\n",
    "print(groups)\n",
    "print(\"*\"*30)\n",
    "print(groups['Points'].sum())\n",
    "print(\"*\"*30)\n",
    "result = groups['Points'].agg([\"sum\",\"mean\",\"std\",\"max\",\"min\"])\n",
    "print(result)\n",
    "print(\"*\"*30)\n",
    "print(a.groupby('Team').filter(lambda x:len(x)==4))\n",
    "print(\"*\"*30)\n",
    "print(a.groupby('Team').filter(lambda x:len(x)==3))"
   ]
  },
  {
   "cell_type": "markdown",
   "id": "e8a6991a-5550-45b7-9454-d737de33c26b",
   "metadata": {},
   "source": [
    "3)Working with csv files and basic data analysis using Pandas"
   ]
  },
  {
   "cell_type": "markdown",
   "id": "2d36905a-4575-4c91-b647-ab192a98bc8b",
   "metadata": {},
   "source": [
    "a)Reading csv file"
   ]
  },
  {
   "cell_type": "code",
   "execution_count": 18,
   "id": "7768c156-b763-4773-a8b1-03a6cb3f5724",
   "metadata": {
    "scrolled": true
   },
   "outputs": [
    {
     "name": "stdout",
     "output_type": "stream",
     "text": [
      "          Country      League   Club       Player Names  Matches_Played  \\\n",
      "0           Spain     La Liga  (BET)    Juanmi Callejon              19   \n",
      "1           Spain     La Liga  (BAR)  Antoine Griezmann              36   \n",
      "2           Spain     La Liga  (ATL)        Luis Suarez              34   \n",
      "3           Spain     La Liga  (CAR)       Ruben Castro              32   \n",
      "4           Spain     La Liga  (VAL)      Kevin Gameiro              21   \n",
      "..            ...         ...    ...                ...             ...   \n",
      "655   Netherlands  Eredivisie  (UTR)        Gyrano Kerk              24   \n",
      "656   Netherlands  Eredivisie  (AJA)      Quincy Promes              18   \n",
      "657   Netherlands  Eredivisie  (PSV)    Denzel Dumfries              25   \n",
      "658   Netherlands  Eredivisie    NaN    Cyriel Dessers               26   \n",
      "659   Netherlands  Eredivisie  (PSV)         Cody Gakpo              14   \n",
      "\n",
      "     Substitution   Mins  Goals     xG  xG Per Avg Match  Shots  OnTarget  \\\n",
      "0               16  1849     11   6.62              0.34     48        20   \n",
      "1                0  3129     16  11.86              0.36     88        41   \n",
      "2                1  2940     28  23.21              0.75    120        57   \n",
      "3                3  2842     13  14.06              0.47    117        42   \n",
      "4               10  1745     13  10.65              0.58     50        23   \n",
      "..             ...   ...    ...    ...               ...    ...       ...   \n",
      "655              0  2155     10   7.49              0.33     50        18   \n",
      "656              2  1573     12   9.77              0.59     56        30   \n",
      "657              0  2363      7   5.72              0.23     45        14   \n",
      "658              0  2461     15  14.51              0.56     84        43   \n",
      "659             11  1557      7   4.43              0.27     38        15   \n",
      "\n",
      "     Shots Per Avg Match  On Target Per Avg Match  Year  \n",
      "0                   2.47                     1.03  2016  \n",
      "1                   2.67                     1.24  2016  \n",
      "2                   3.88                     1.84  2016  \n",
      "3                   3.91                     1.40  2016  \n",
      "4                   2.72                     1.25  2016  \n",
      "..                   ...                      ...   ...  \n",
      "655                 2.20                     0.79  2020  \n",
      "656                 3.38                     1.81  2020  \n",
      "657                 1.81                     0.56  2020  \n",
      "658                 3.24                     1.66  2020  \n",
      "659                 2.32                     0.92  2020  \n",
      "\n",
      "[660 rows x 15 columns]\n",
      "  Country   League   Club       Player Names  Matches_Played  Substitution   \\\n",
      "0   Spain  La Liga  (BET)    Juanmi Callejon              19             16   \n",
      "1   Spain  La Liga  (BAR)  Antoine Griezmann              36              0   \n",
      "2   Spain  La Liga  (ATL)        Luis Suarez              34              1   \n",
      "3   Spain  La Liga  (CAR)       Ruben Castro              32              3   \n",
      "4   Spain  La Liga  (VAL)      Kevin Gameiro              21             10   \n",
      "\n",
      "   Mins  Goals     xG  xG Per Avg Match  Shots  OnTarget  Shots Per Avg Match  \\\n",
      "0  1849     11   6.62              0.34     48        20                 2.47   \n",
      "1  3129     16  11.86              0.36     88        41                 2.67   \n",
      "2  2940     28  23.21              0.75    120        57                 3.88   \n",
      "3  2842     13  14.06              0.47    117        42                 3.91   \n",
      "4  1745     13  10.65              0.58     50        23                 2.72   \n",
      "\n",
      "   On Target Per Avg Match  Year  \n",
      "0                     1.03  2016  \n",
      "1                     1.24  2016  \n",
      "2                     1.84  2016  \n",
      "3                     1.40  2016  \n",
      "4                     1.25  2016  \n"
     ]
    }
   ],
   "source": [
    "import pandas as pd                                                               \n",
    "a=pd.read_csv('Football.csv')#Or the link\n",
    "print(a)\n",
    "print(a.head())#Print 5 lines (first by default)"
   ]
  },
  {
   "cell_type": "code",
   "execution_count": null,
   "id": "6ae04315-0b9b-4f92-96ec-bc6cbbea1ec4",
   "metadata": {},
   "outputs": [],
   "source": [
    "b)Info of the file using pandas"
   ]
  },
  {
   "cell_type": "code",
   "execution_count": 26,
   "id": "64ab7f51-5555-4989-bee0-adc313f9c57a",
   "metadata": {
    "scrolled": true
   },
   "outputs": [
    {
     "name": "stdout",
     "output_type": "stream",
     "text": [
      "<class 'pandas.core.frame.DataFrame'>\n",
      "RangeIndex: 660 entries, 0 to 659\n",
      "Data columns (total 15 columns):\n",
      " #   Column                   Non-Null Count  Dtype  \n",
      "---  ------                   --------------  -----  \n",
      " 0   Country                  660 non-null    object \n",
      " 1   League                   660 non-null    object \n",
      " 2   Club                     626 non-null    object \n",
      " 3   Player Names             660 non-null    object \n",
      " 4   Matches_Played           660 non-null    int64  \n",
      " 5   Substitution             660 non-null    int64  \n",
      " 6   Mins                     660 non-null    int64  \n",
      " 7   Goals                    660 non-null    int64  \n",
      " 8   xG                       660 non-null    float64\n",
      " 9   xG Per Avg Match         660 non-null    float64\n",
      " 10  Shots                    660 non-null    int64  \n",
      " 11  OnTarget                 660 non-null    int64  \n",
      " 12  Shots Per Avg Match      660 non-null    float64\n",
      " 13  On Target Per Avg Match  660 non-null    float64\n",
      " 14  Year                     660 non-null    int64  \n",
      "dtypes: float64(4), int64(7), object(4)\n",
      "memory usage: 77.5+ KB\n",
      "None\n"
     ]
    }
   ],
   "source": [
    "print(a.info())"
   ]
  },
  {
   "cell_type": "markdown",
   "id": "00d19ad2-f3f9-4921-beed-c09a370e00da",
   "metadata": {},
   "source": [
    "c)isnull() function to check if there are any nan values"
   ]
  },
  {
   "cell_type": "markdown",
   "id": "627310a8-ddc2-405b-b0d2-6a50fe995642",
   "metadata": {},
   "source": [
    "c)isnull() usage in pandas"
   ]
  },
  {
   "cell_type": "code",
   "execution_count": 13,
   "id": "5f03ecc7-7a73-4bb8-920a-b3fa31054de7",
   "metadata": {
    "scrolled": true
   },
   "outputs": [
    {
     "name": "stdout",
     "output_type": "stream",
     "text": [
      "     Country  League   Club  Player Names  Matches_Played  Substitution   \\\n",
      "0      False   False  False         False           False          False   \n",
      "1      False   False  False         False           False          False   \n",
      "2      False   False  False         False           False          False   \n",
      "3      False   False  False         False           False          False   \n",
      "4      False   False  False         False           False          False   \n",
      "..       ...     ...    ...           ...             ...            ...   \n",
      "655    False   False  False         False           False          False   \n",
      "656    False   False  False         False           False          False   \n",
      "657    False   False  False         False           False          False   \n",
      "658    False   False   True         False           False          False   \n",
      "659    False   False  False         False           False          False   \n",
      "\n",
      "      Mins  Goals     xG  xG Per Avg Match  Shots  OnTarget  \\\n",
      "0    False  False  False             False  False     False   \n",
      "1    False  False  False             False  False     False   \n",
      "2    False  False  False             False  False     False   \n",
      "3    False  False  False             False  False     False   \n",
      "4    False  False  False             False  False     False   \n",
      "..     ...    ...    ...               ...    ...       ...   \n",
      "655  False  False  False             False  False     False   \n",
      "656  False  False  False             False  False     False   \n",
      "657  False  False  False             False  False     False   \n",
      "658  False  False  False             False  False     False   \n",
      "659  False  False  False             False  False     False   \n",
      "\n",
      "     Shots Per Avg Match  On Target Per Avg Match   Year  \n",
      "0                  False                    False  False  \n",
      "1                  False                    False  False  \n",
      "2                  False                    False  False  \n",
      "3                  False                    False  False  \n",
      "4                  False                    False  False  \n",
      "..                   ...                      ...    ...  \n",
      "655                False                    False  False  \n",
      "656                False                    False  False  \n",
      "657                False                    False  False  \n",
      "658                False                    False  False  \n",
      "659                False                    False  False  \n",
      "\n",
      "[660 rows x 15 columns]\n",
      "Country                     0\n",
      "League                      0\n",
      "Club                       34\n",
      "Player Names                0\n",
      "Matches_Played              0\n",
      "Substitution                0\n",
      "Mins                        0\n",
      "Goals                       0\n",
      "xG                          0\n",
      "xG Per Avg Match            0\n",
      "Shots                       0\n",
      "OnTarget                    0\n",
      "Shots Per Avg Match         0\n",
      "On Target Per Avg Match     0\n",
      "Year                        0\n",
      "dtype: int64\n"
     ]
    }
   ],
   "source": [
    "import pandas as pd\n",
    "a=pd.read_csv('Football.csv')\n",
    "print(a.isnull())#GIVES TRUE OR FALSE in all rows and columns\n",
    "print(a.isnull().sum())#Gives the sum values of all rows which are empty or not"
   ]
  },
  {
   "cell_type": "code",
   "execution_count": 7,
   "id": "e1922cb1-de9c-4032-994b-677c25e9433e",
   "metadata": {
    "scrolled": true
   },
   "outputs": [
    {
     "name": "stdout",
     "output_type": "stream",
     "text": [
      "       Matches_Played  Substitution          Mins       Goals          xG  \\\n",
      "count      660.000000     660.000000   660.000000  660.000000  660.000000   \n",
      "mean        22.371212       3.224242  2071.416667   11.810606   10.089606   \n",
      "std          9.754658       3.839498   900.595049    6.075315    5.724844   \n",
      "min          2.000000       0.000000   264.000000    2.000000    0.710000   \n",
      "0%           2.000000       0.000000   264.000000    2.000000    0.710000   \n",
      "50%         24.000000       2.000000  2245.500000   11.000000    9.285000   \n",
      "max         38.000000      26.000000  4177.000000   42.000000   32.540000   \n",
      "\n",
      "       xG Per Avg Match       Shots    OnTarget  Shots Per Avg Match  \\\n",
      "count        660.000000  660.000000  660.000000           660.000000   \n",
      "mean           0.476167   64.177273   28.365152             2.948015   \n",
      "std            0.192831   34.941622   16.363149             0.914906   \n",
      "min            0.070000    5.000000    2.000000             0.800000   \n",
      "0%             0.070000    5.000000    2.000000             0.800000   \n",
      "50%            0.435000   62.000000   26.000000             2.845000   \n",
      "max            1.350000  208.000000  102.000000             7.200000   \n",
      "\n",
      "       On Target Per Avg Match         Year  \n",
      "count               660.000000   660.000000  \n",
      "mean                  1.315652  2018.363636  \n",
      "std                   0.474239     1.367700  \n",
      "min                   0.240000  2016.000000  \n",
      "0%                    0.240000  2016.000000  \n",
      "50%                   1.250000  2019.000000  \n",
      "max                   3.630000  2020.000000  \n",
      "2915.8\n"
     ]
    }
   ],
   "source": [
    "import pandas as pd\n",
    "a=pd.read_csv('Football.csv')\n",
    "print(a.describe(percentiles=[.00]))#Gives count,mean,std,50%,80%,max"
   ]
  },
  {
   "cell_type": "code",
   "execution_count": 11,
   "id": "50a7b781-8a77-4e5d-8712-a52caf69c6d3",
   "metadata": {
    "scrolled": true
   },
   "outputs": [
    {
     "name": "stdout",
     "output_type": "stream",
     "text": [
      "2245.5\n"
     ]
    }
   ],
   "source": [
    "import pandas as pd\n",
    "a=pd.read_csv('Football.csv')\n",
    "#Let us use the quantile function to get the exact value now\n",
    "print(a['Mins'].quantile(.50))"
   ]
  },
  {
   "cell_type": "raw",
   "id": "10ffe45b-8fc2-4fe0-b8f5-83661ca9e51c",
   "metadata": {},
   "source": [
    "d)Quantile function in pandas"
   ]
  },
  {
   "cell_type": "code",
   "execution_count": 3,
   "id": "4193a476-e352-4e92-8bf4-cde24d17c8a6",
   "metadata": {
    "scrolled": true
   },
   "outputs": [
    {
     "name": "stdout",
     "output_type": "stream",
     "text": [
      "3520.0199999999995\n"
     ]
    }
   ],
   "source": [
    "import pandas as pd\n",
    "a=pd.read_csv('Football.csv')\n",
    "#Let us use the quantile function to get the exact value now\n",
    "print(a['Mins'].quantile(.99))"
   ]
  },
  {
   "cell_type": "markdown",
   "id": "e956f6b0-c1b3-4584-978d-092eeecc1607",
   "metadata": {},
   "source": [
    "e)Copy function"
   ]
  },
  {
   "cell_type": "code",
   "execution_count": 27,
   "id": "f7b029d5-2b4e-47f6-a7db-a86caec1926f",
   "metadata": {
    "scrolled": true
   },
   "outputs": [
    {
     "data": {
      "text/html": [
       "<div>\n",
       "<style scoped>\n",
       "    .dataframe tbody tr th:only-of-type {\n",
       "        vertical-align: middle;\n",
       "    }\n",
       "\n",
       "    .dataframe tbody tr th {\n",
       "        vertical-align: top;\n",
       "    }\n",
       "\n",
       "    .dataframe thead th {\n",
       "        text-align: right;\n",
       "    }\n",
       "</style>\n",
       "<table border=\"1\" class=\"dataframe\">\n",
       "  <thead>\n",
       "    <tr style=\"text-align: right;\">\n",
       "      <th></th>\n",
       "      <th>Country</th>\n",
       "      <th>League</th>\n",
       "      <th>Club</th>\n",
       "      <th>Player Names</th>\n",
       "      <th>Matches_Played</th>\n",
       "      <th>Substitution</th>\n",
       "      <th>Mins</th>\n",
       "      <th>Goals</th>\n",
       "      <th>xG</th>\n",
       "      <th>xG Per Avg Match</th>\n",
       "      <th>Shots</th>\n",
       "      <th>OnTarget</th>\n",
       "      <th>Shots Per Avg Match</th>\n",
       "      <th>On Target Per Avg Match</th>\n",
       "      <th>Year</th>\n",
       "    </tr>\n",
       "  </thead>\n",
       "  <tbody>\n",
       "    <tr>\n",
       "      <th>0</th>\n",
       "      <td>Spain</td>\n",
       "      <td>La Liga</td>\n",
       "      <td>(BET)</td>\n",
       "      <td>Juanmi Callejon</td>\n",
       "      <td>19</td>\n",
       "      <td>16</td>\n",
       "      <td>1849</td>\n",
       "      <td>11</td>\n",
       "      <td>6.62</td>\n",
       "      <td>0.34</td>\n",
       "      <td>48</td>\n",
       "      <td>20</td>\n",
       "      <td>2.47</td>\n",
       "      <td>1.03</td>\n",
       "      <td>2016</td>\n",
       "    </tr>\n",
       "    <tr>\n",
       "      <th>1</th>\n",
       "      <td>Spain</td>\n",
       "      <td>La Liga</td>\n",
       "      <td>(BAR)</td>\n",
       "      <td>Antoine Griezmann</td>\n",
       "      <td>36</td>\n",
       "      <td>0</td>\n",
       "      <td>3129</td>\n",
       "      <td>16</td>\n",
       "      <td>11.86</td>\n",
       "      <td>0.36</td>\n",
       "      <td>88</td>\n",
       "      <td>41</td>\n",
       "      <td>2.67</td>\n",
       "      <td>1.24</td>\n",
       "      <td>2016</td>\n",
       "    </tr>\n",
       "    <tr>\n",
       "      <th>2</th>\n",
       "      <td>Spain</td>\n",
       "      <td>La Liga</td>\n",
       "      <td>(ATL)</td>\n",
       "      <td>Luis Suarez</td>\n",
       "      <td>34</td>\n",
       "      <td>1</td>\n",
       "      <td>2940</td>\n",
       "      <td>28</td>\n",
       "      <td>23.21</td>\n",
       "      <td>0.75</td>\n",
       "      <td>120</td>\n",
       "      <td>57</td>\n",
       "      <td>3.88</td>\n",
       "      <td>1.84</td>\n",
       "      <td>2016</td>\n",
       "    </tr>\n",
       "  </tbody>\n",
       "</table>\n",
       "</div>"
      ],
      "text/plain": [
       "  Country   League   Club       Player Names  Matches_Played  Substitution   \\\n",
       "0   Spain  La Liga  (BET)    Juanmi Callejon              19             16   \n",
       "1   Spain  La Liga  (BAR)  Antoine Griezmann              36              0   \n",
       "2   Spain  La Liga  (ATL)        Luis Suarez              34              1   \n",
       "\n",
       "   Mins  Goals     xG  xG Per Avg Match  Shots  OnTarget  Shots Per Avg Match  \\\n",
       "0  1849     11   6.62              0.34     48        20                 2.47   \n",
       "1  3129     16  11.86              0.36     88        41                 2.67   \n",
       "2  2940     28  23.21              0.75    120        57                 3.88   \n",
       "\n",
       "   On Target Per Avg Match  Year  \n",
       "0                     1.03  2016  \n",
       "1                     1.24  2016  \n",
       "2                     1.84  2016  "
      ]
     },
     "execution_count": 27,
     "metadata": {},
     "output_type": "execute_result"
    }
   ],
   "source": [
    "b=a.copy()\n",
    "b.head(3)"
   ]
  },
  {
   "cell_type": "code",
   "execution_count": 29,
   "id": "e2fd8d76-8e3c-41bf-93a3-94c55e9a7048",
   "metadata": {},
   "outputs": [
    {
     "data": {
      "text/html": [
       "<div>\n",
       "<style scoped>\n",
       "    .dataframe tbody tr th:only-of-type {\n",
       "        vertical-align: middle;\n",
       "    }\n",
       "\n",
       "    .dataframe tbody tr th {\n",
       "        vertical-align: top;\n",
       "    }\n",
       "\n",
       "    .dataframe thead th {\n",
       "        text-align: right;\n",
       "    }\n",
       "</style>\n",
       "<table border=\"1\" class=\"dataframe\">\n",
       "  <thead>\n",
       "    <tr style=\"text-align: right;\">\n",
       "      <th></th>\n",
       "      <th>Country</th>\n",
       "      <th>League</th>\n",
       "      <th>Club</th>\n",
       "      <th>Player Names</th>\n",
       "      <th>Matches_Played</th>\n",
       "      <th>Substitution</th>\n",
       "      <th>Mins</th>\n",
       "      <th>Goals</th>\n",
       "      <th>xG</th>\n",
       "      <th>xG Per Avg Match</th>\n",
       "      <th>Shots</th>\n",
       "      <th>OnTarget</th>\n",
       "      <th>Shots Per Avg Match</th>\n",
       "      <th>On Target Per Avg Match</th>\n",
       "      <th>Year</th>\n",
       "      <th>year+100</th>\n",
       "    </tr>\n",
       "  </thead>\n",
       "  <tbody>\n",
       "    <tr>\n",
       "      <th>0</th>\n",
       "      <td>Spain</td>\n",
       "      <td>La Liga</td>\n",
       "      <td>(BET)</td>\n",
       "      <td>Juanmi Callejon</td>\n",
       "      <td>19</td>\n",
       "      <td>16</td>\n",
       "      <td>1849</td>\n",
       "      <td>11</td>\n",
       "      <td>6.62</td>\n",
       "      <td>0.34</td>\n",
       "      <td>48</td>\n",
       "      <td>20</td>\n",
       "      <td>2.47</td>\n",
       "      <td>1.03</td>\n",
       "      <td>2016</td>\n",
       "      <td>2116</td>\n",
       "    </tr>\n",
       "    <tr>\n",
       "      <th>1</th>\n",
       "      <td>Spain</td>\n",
       "      <td>La Liga</td>\n",
       "      <td>(BAR)</td>\n",
       "      <td>Antoine Griezmann</td>\n",
       "      <td>36</td>\n",
       "      <td>0</td>\n",
       "      <td>3129</td>\n",
       "      <td>16</td>\n",
       "      <td>11.86</td>\n",
       "      <td>0.36</td>\n",
       "      <td>88</td>\n",
       "      <td>41</td>\n",
       "      <td>2.67</td>\n",
       "      <td>1.24</td>\n",
       "      <td>2016</td>\n",
       "      <td>2116</td>\n",
       "    </tr>\n",
       "    <tr>\n",
       "      <th>2</th>\n",
       "      <td>Spain</td>\n",
       "      <td>La Liga</td>\n",
       "      <td>(ATL)</td>\n",
       "      <td>Luis Suarez</td>\n",
       "      <td>34</td>\n",
       "      <td>1</td>\n",
       "      <td>2940</td>\n",
       "      <td>28</td>\n",
       "      <td>23.21</td>\n",
       "      <td>0.75</td>\n",
       "      <td>120</td>\n",
       "      <td>57</td>\n",
       "      <td>3.88</td>\n",
       "      <td>1.84</td>\n",
       "      <td>2016</td>\n",
       "      <td>2116</td>\n",
       "    </tr>\n",
       "    <tr>\n",
       "      <th>3</th>\n",
       "      <td>Spain</td>\n",
       "      <td>La Liga</td>\n",
       "      <td>(CAR)</td>\n",
       "      <td>Ruben Castro</td>\n",
       "      <td>32</td>\n",
       "      <td>3</td>\n",
       "      <td>2842</td>\n",
       "      <td>13</td>\n",
       "      <td>14.06</td>\n",
       "      <td>0.47</td>\n",
       "      <td>117</td>\n",
       "      <td>42</td>\n",
       "      <td>3.91</td>\n",
       "      <td>1.40</td>\n",
       "      <td>2016</td>\n",
       "      <td>2116</td>\n",
       "    </tr>\n",
       "    <tr>\n",
       "      <th>4</th>\n",
       "      <td>Spain</td>\n",
       "      <td>La Liga</td>\n",
       "      <td>(VAL)</td>\n",
       "      <td>Kevin Gameiro</td>\n",
       "      <td>21</td>\n",
       "      <td>10</td>\n",
       "      <td>1745</td>\n",
       "      <td>13</td>\n",
       "      <td>10.65</td>\n",
       "      <td>0.58</td>\n",
       "      <td>50</td>\n",
       "      <td>23</td>\n",
       "      <td>2.72</td>\n",
       "      <td>1.25</td>\n",
       "      <td>2016</td>\n",
       "      <td>2116</td>\n",
       "    </tr>\n",
       "  </tbody>\n",
       "</table>\n",
       "</div>"
      ],
      "text/plain": [
       "  Country   League   Club       Player Names  Matches_Played  Substitution   \\\n",
       "0   Spain  La Liga  (BET)    Juanmi Callejon              19             16   \n",
       "1   Spain  La Liga  (BAR)  Antoine Griezmann              36              0   \n",
       "2   Spain  La Liga  (ATL)        Luis Suarez              34              1   \n",
       "3   Spain  La Liga  (CAR)       Ruben Castro              32              3   \n",
       "4   Spain  La Liga  (VAL)      Kevin Gameiro              21             10   \n",
       "\n",
       "   Mins  Goals     xG  xG Per Avg Match  Shots  OnTarget  Shots Per Avg Match  \\\n",
       "0  1849     11   6.62              0.34     48        20                 2.47   \n",
       "1  3129     16  11.86              0.36     88        41                 2.67   \n",
       "2  2940     28  23.21              0.75    120        57                 3.88   \n",
       "3  2842     13  14.06              0.47    117        42                 3.91   \n",
       "4  1745     13  10.65              0.58     50        23                 2.72   \n",
       "\n",
       "   On Target Per Avg Match  Year  year+100  \n",
       "0                     1.03  2016      2116  \n",
       "1                     1.24  2016      2116  \n",
       "2                     1.84  2016      2116  \n",
       "3                     1.40  2016      2116  \n",
       "4                     1.25  2016      2116  "
      ]
     },
     "execution_count": 29,
     "metadata": {},
     "output_type": "execute_result"
    }
   ],
   "source": [
    "b=a.copy()\n",
    "b[\"year+100\"]=b['Year']+100\n",
    "b.head()"
   ]
  },
  {
   "cell_type": "markdown",
   "id": "e2a923d0-f242-4b9c-9220-46cf77ae862d",
   "metadata": {},
   "source": [
    "f)Value_counts() function"
   ]
  },
  {
   "cell_type": "markdown",
   "id": "2b43c02e-37f3-4332-9c56-edd7727a9a84",
   "metadata": {},
   "source": [
    "#Returns unique values"
   ]
  },
  {
   "cell_type": "code",
   "execution_count": 30,
   "id": "8a10b933-f8ee-44f3-9441-a57d07ecdc13",
   "metadata": {
    "scrolled": true
   },
   "outputs": [
    {
     "data": {
      "text/plain": [
       "Player Names\n",
       "Lionel Messi          5\n",
       "Luis Suarez           5\n",
       "Fabio Quagliarella    5\n",
       "Andrea Belotti        5\n",
       "Robert Lewandowski    5\n",
       "                     ..\n",
       "Robson                1\n",
       "Renato Kayzer         1\n",
       "Donny van de Beek     1\n",
       "Teun Koopmeiners      1\n",
       "Cantalapiedra         1\n",
       "Name: count, Length: 444, dtype: int64"
      ]
     },
     "execution_count": 30,
     "metadata": {},
     "output_type": "execute_result"
    }
   ],
   "source": [
    "a['Player Names'].value_counts()"
   ]
  },
  {
   "cell_type": "markdown",
   "id": "427231f0-851b-4ed1-94ab-598ff2ccf440",
   "metadata": {},
   "source": [
    "g)Unique and nunique Function"
   ]
  },
  {
   "cell_type": "code",
   "execution_count": 22,
   "id": "19b4170d-0286-4878-8693-ff3cf00de77b",
   "metadata": {
    "scrolled": true
   },
   "outputs": [
    {
     "data": {
      "text/plain": [
       "array(['Juanmi Callejon', 'Antoine Griezmann', 'Luis Suarez',\n",
       "       'Ruben Castro', 'Kevin Gameiro', 'Cristiano Ronaldo',\n",
       "       'Karim Benzema', 'Neymar ', 'Iago Aspas', 'Sergi Enrich',\n",
       "       'Aduriz ', 'Sandro Ramlrez', 'Lionel Messi', 'Gerard Moreno',\n",
       "       'Morata', 'Wissam Ben Yedder', 'Willian Jose', 'Andone ',\n",
       "       'Cedric Bakambu', 'Isco', 'Mohamed Salah', 'Gregoire Defrel',\n",
       "       'Ciro Immobile', 'Nikola Kalinic', 'Dries Mertens',\n",
       "       'Alejandro Gomez', 'Jose CallejOn', 'Iago Falque',\n",
       "       'Giovanni Simeone', 'Mauro Icardi', 'Diego Falcinelli',\n",
       "       'Cyril Thereau', 'Edin Dzeko', 'Lorenzo Insigne',\n",
       "       'Fabio Quagliarella', 'Borriello ', 'Carlos Bacca',\n",
       "       'Gonzalo Higuain', 'Keita Balde', 'Andrea Belotti', 'Fin Bartels',\n",
       "       'Lars Stindl', 'Serge Gnabry', 'Wagner ', 'Andrej Kramaric',\n",
       "       'Florian Niederlechner', 'Robert Lewandowski', 'Emil Forsberg',\n",
       "       'Timo Werner', 'Nils Petersen', 'Vedad Ibisevic', 'Mario Gomez',\n",
       "       'Maximilian Philipp', 'A\\x81dam Szalai',\n",
       "       'Pierre-Emerick Aubameyang', 'Guido Burgstaller', 'Max Kruse',\n",
       "       'Chicharito ', 'Anthony Modeste', 'Arjen Robben', 'Alexis Sanchez',\n",
       "       'Romelu Lukaku', 'Harry Kane', 'Jamie Vardy', 'Christian Benteke',\n",
       "       'Pedro None', 'Eden Hazard', 'Roberto Firmino', 'Sadio Mane',\n",
       "       'Philippe Coutinho', 'Diego Costa', 'Dele Alli', 'Sergio Aguero',\n",
       "       'Jermain Defoe', 'Fernando Llorente', 'Michail Antonio',\n",
       "       'Zlatan Ibrahimovic', 'Olivier Giroud', 'Son Heung-Min',\n",
       "       'Joshua King', 'Diego Souza', 'Pablo ', 'Robinho ', 'Kempes ',\n",
       "       'Gabriel Jesus', 'Bruno Rangel ', 'Rogerio ', 'Vitor Bueno',\n",
       "       'Marinho ', 'Grafite ', 'Andres Chavez', 'Cicero Semedo', 'Sassa',\n",
       "       'Giorgian de Arrascaeta', 'Keno ', 'Fred ', 'Kleber Gladiador',\n",
       "       'Pottker ', 'Jonathan Copete', 'Ricardo Oliveira',\n",
       "       'Angel Rodriguez', 'Gareth Bale', 'Rodrigo None', 'Sergio Leon',\n",
       "       'Maxi Gomez', 'Mikel Oyarzabal', 'Willian Josa', 'Simone Zaza',\n",
       "       'Portu ', 'Cristhian Stuani', 'Santi Mina', 'Morales ', 'Munir ',\n",
       "       'Jose Callejon', 'Sergej Milinkovic-Savic', 'Duvan Zapata',\n",
       "       'Paulo Dybala', 'Mirco Antenucci', 'Luis Alberto',\n",
       "       'Roberto Inglese', 'Josip Ilicic', 'Ivan Perisic',\n",
       "       'Leonardo Pavoletti', 'Kevin Lasagna', 'Niclas Fullkrug',\n",
       "       'Salomon Kalou', 'Thorgan Hazard', 'Jean-Kevin Augustin',\n",
       "       'Sandro Wagner ', 'Leon Bailey', 'Daniel Didavi',\n",
       "       'Alfred Finnbogason', 'Davie Selke', 'Mark Uth',\n",
       "       'Michael Gregoritsch', 'Julian Brandt', 'Kevin Volland', 'Roger ',\n",
       "       'Arthur Caike', 'Everton ', 'Hernanes ', 'Luiz Fernando',\n",
       "       'Wellington Paulista', 'Santiago Trellez', 'Jo', 'Thiago Neves',\n",
       "       'Bruno Henrique', 'Dudu ', 'Diego ', 'Lucca ', 'Henrique Dourado',\n",
       "       'Andre', 'Edigar Junio ', 'Junior  Dutra', 'Jaime Mata',\n",
       "       'Inaki Williams', 'Chimy Avila', 'Raul de Tomas', 'Pablo Sarabia',\n",
       "       'Borja Iglesias', 'Jorge Molina', 'Charles', 'Arkadiusz Milik',\n",
       "       'Mandzukic None', 'Andrea Petagna', 'Francesco Caputo',\n",
       "       'Stephan El Shaarawy', 'Gervinho ', 'Krzysztof Piatek',\n",
       "       'Alassane Plea', 'Kai Havertz', 'Luka Jovic', 'Ante Rebic',\n",
       "       'Jadon Sancho', 'Ondrej Duda', 'Paco Alcacer', 'Benito Raman',\n",
       "       'Wout Weghorst', 'Ishak Belfodil', 'Marco Reus',\n",
       "       'Jean-Philippe Mateta', 'Sebastien Haller', 'Yussuf Poulsen',\n",
       "       'Angel Di Maria', 'Remi Oudin', 'Nicolas Pepe', 'Emiliano Sala',\n",
       "       'Jonathan Bamba', \"M'Baye Niang\", 'Edinson Cavani',\n",
       "       'Stephane Bahoken', 'Max Gradel', 'Florian Thauvin',\n",
       "       'Kylian Mbappe-Lottin', 'Wahbi Khazri', 'Falcao ',\n",
       "       'Gaetan Laborde', 'Andy Delort', 'Moussa Dembele', 'Memphis Depay',\n",
       "       'Lebo Mothiba', 'Francois Kamano', 'Luka Milivojevic',\n",
       "       'Paul Pogba', 'Ashley Barnes', 'Glenn Murray', 'Richarlison ',\n",
       "       'Callum Wilson', 'Gylfi Sigurdsson', 'Raheem Sterling',\n",
       "       'Ayoze Perez', 'Alexandre Lacazette', 'Raul Jimenez',\n",
       "       'Lucas Paqueta', 'Juan Cazares', 'Deyverson ', 'Leandro Damiao ',\n",
       "       'Yago Pikachu', 'Rodrygo ', 'Andres Rios', 'Roger Guedes ',\n",
       "       'Leandro Pereira ', 'Pedro ', 'Nico Lupez', 'Nene ', 'Gilberto ',\n",
       "       'Henrique ', 'Willian ', 'Gabriel Barbosa', 'Diego Rossi',\n",
       "       'Josef Martinez', 'Chris Wondolowski', 'Nani ', 'Kacper Przybylko',\n",
       "       'Kei Kamara', 'C.J. Sapong', 'Gyasi Zardes', 'Heber ',\n",
       "       'Mauro Manotas', 'Brian Fernandez', 'Alejandro Pozuelo',\n",
       "       'Felipe Gutierrez', 'Jordan Morris', 'Raul Ruidiaz',\n",
       "       'Jozy Altidore', 'Carlos Vela', 'Nemanja Nikolic',\n",
       "       'Alexandru Mitrita', 'Joselu', 'Carlos Fernandez', 'Ante Budimir',\n",
       "       'Lucas Perez', 'Loren Moron', 'Raul Garcla', 'Morata ',\n",
       "       'Sergio Ramos', 'Lucas Ocampos', 'Cazorla ', 'Pote ',\n",
       "       'Tiquinho Soares', 'Eduardo Mancha', 'Paulinho ', 'Alex Telles',\n",
       "       'Bruno Viana', 'Mehrdad Mohammadi', 'Carlos Valenzuela',\n",
       "       'Ruben Lameiras', 'Moussa Marega', 'Gian-Luca Waldschmidt',\n",
       "       'Samuel Lino', 'Andre Andre', 'Mehdi Taremi', 'Carlos Vinicius',\n",
       "       'Sergio Oliveira', 'Douglas Tanque', 'Fabio Abreu',\n",
       "       'Brayan Riascos', 'Alex Telles ', 'Fabio Martins',\n",
       "       'Haris  Seferovic', 'Joao Teixeira', 'Bruno Fernandes',\n",
       "       'Angel Gomes', 'Toni MartÃ\\xadnez', 'Pizzi ', 'Bozhidar Kraev',\n",
       "       'Sandro Lima', 'Rodrigo Pinho', 'Thiago Santana', 'Trincao ',\n",
       "       'Andraz Sporar', 'Ricardo Horta', 'Bruno Duarte', 'Nuno Santos',\n",
       "       'Domenico Berardi', 'Joao Pedro', 'Andreas Cornelius',\n",
       "       'Marco Mancosu', 'Lautaro Martrinez', 'Luis Muriel',\n",
       "       'Gianluca Lapadula', 'Marcus Thuram', 'Rouwen Hennings',\n",
       "       'Andre Silva', 'Erling Haaland', 'Jhon Cordoba', 'Robin Quaison',\n",
       "       'Sebastian Andersson', 'Dimitri Payet', 'Kasper Dolberg',\n",
       "       'Adrien Thomasson', 'Dario Benedetto', 'Ludovic Ajorque',\n",
       "       'Islam Slimani', 'Adrien Hunou', 'Denis Bouanga',\n",
       "       'Sehrou Guirassy', 'Ã\\x81ngel Di Maria', 'Habib Diallo',\n",
       "       'Victor Osimhen', 'Dominic Calvert-Lewin', 'Kevin De Bruyne',\n",
       "       'Chris Wood', 'Anthony Martial', 'Riyad Mahrez', 'Marcus Rashford',\n",
       "       'Danny Ings', 'Richarlison  ', 'Teemu Pukki', 'Tammy Abraham',\n",
       "       'Thiago Galhardo', 'Paolo Guerrero', 'Pepe', 'Michael ',\n",
       "       'Carlos Sanchez', 'Everaldo ', 'Artur ', 'Marcelo  Cirino',\n",
       "       'Yeferson Soteldo', 'Eduardo Sasha', 'Rafael Moura', 'Antony None',\n",
       "       'Quincy Promes', 'Dusan Tadic', 'Armando Broja', 'Steven Berghuis',\n",
       "       'Michael de Leeuw', 'Lois Openda', 'Danilo Nome', 'Lennart Thy',\n",
       "       'Donyell Malen', 'Noni Madueke', 'Davy Klaassen',\n",
       "       'Oussama Tannane', 'Vaclav Cerny', 'Vangelis Pavlidis',\n",
       "       'Henk Veerman', 'Abdou Harroui', 'Rai Vloet', 'Lassina Traore',\n",
       "       'Georgios Giakoumakis', 'Alex Pozuelo', 'Kevin Molino',\n",
       "       'Damir Kreilach', 'Bradley Wright-Phillips', 'Nicolas Lodeiro',\n",
       "       'Daryl Dike', 'Cristian Pavon', 'Chris Mueller', 'Romell Quioto',\n",
       "       'Gustavo Bou', 'Robert Beric', 'Ayo Akinola', 'Jeremy Ebobisse',\n",
       "       'Diego Valeri', 'Youssef   En-Nesyri', 'Carlos Soler',\n",
       "       'Cristian Tello', 'Esteban Burgos', 'Joao Felix',\n",
       "       'Federico Valverde', 'Kike GarcIa', 'Ansu Fati', 'Roberto Soriano',\n",
       "       'Gaetano Castrovilli', 'Henrikh Mkhitaryan', 'Jordan Veretout',\n",
       "       'Lautaro MartInez', 'Hirving Lozano', 'Lucas Alario', 'Bas Dost',\n",
       "       'Dani Olmo', 'Ellyes Skhiri', 'Thomas Muller', 'Andre Hahn',\n",
       "       'Daniel Caligiuri', 'Matheus Cunha', 'Ludovic Blas', 'Karl Toko',\n",
       "       'Burak Yilmaz', 'Ibrahima Niane', 'Boulaye Dia', 'Moise Kean',\n",
       "       'Ignatius Ganago', 'Irvin Cardona', 'Wissam Ben', 'Amine Gouiri',\n",
       "       'Mama Balde', 'Gael Kakuta', 'James Ward-Prowse', 'Diogo Jota',\n",
       "       'Wilfried Zaha', 'Jack Grealish', 'Jarrod Bowen',\n",
       "       'Patrick Bamford', 'Danny Ings ', 'Neal Maupay', 'Ollie Watkins',\n",
       "       'Luciano ', 'Vinicius ', 'Raphael Veiga', 'Luiz Adriano',\n",
       "       'Cleber ', 'German Cano', 'Brenner None', 'Matheus Babi',\n",
       "       'Alerrandro ', 'Claudinho ', 'Robson', 'Renato Kayzer',\n",
       "       'Donny van de Beek', 'Teun Koopmeiners', 'Cantalapiedra ',\n",
       "       'Bryan Linssen', 'Matavz ', 'Oussama Idrissi', 'Chidera Ejuke',\n",
       "       'Myron Boadu', 'Klaas-Jan Huntelaar', 'Haris Vuckic',\n",
       "       'Gyrano Kerk', 'Denzel Dumfries', 'Cyriel Dessers ', 'Cody Gakpo'],\n",
       "      dtype=object)"
      ]
     },
     "execution_count": 22,
     "metadata": {},
     "output_type": "execute_result"
    }
   ],
   "source": [
    "a['Player Names'].unique()"
   ]
  },
  {
   "cell_type": "code",
   "execution_count": 32,
   "id": "1267dbf4-91ca-4dd5-8d02-1f7d74f18c38",
   "metadata": {
    "scrolled": true
   },
   "outputs": [
    {
     "data": {
      "text/plain": [
       "444"
      ]
     },
     "execution_count": 32,
     "metadata": {},
     "output_type": "execute_result"
    }
   ],
   "source": [
    "a['Player Names'].nunique()"
   ]
  },
  {
   "cell_type": "markdown",
   "id": "da89f27f-af0a-45e0-a3d9-899a3b306a2c",
   "metadata": {},
   "source": [
    "h) dropna() function"
   ]
  },
  {
   "cell_type": "code",
   "execution_count": 84,
   "id": "729112ab-4332-49de-a497-5ae88675996e",
   "metadata": {
    "scrolled": true
   },
   "outputs": [
    {
     "data": {
      "text/html": [
       "<div>\n",
       "<style scoped>\n",
       "    .dataframe tbody tr th:only-of-type {\n",
       "        vertical-align: middle;\n",
       "    }\n",
       "\n",
       "    .dataframe tbody tr th {\n",
       "        vertical-align: top;\n",
       "    }\n",
       "\n",
       "    .dataframe thead th {\n",
       "        text-align: right;\n",
       "    }\n",
       "</style>\n",
       "<table border=\"1\" class=\"dataframe\">\n",
       "  <thead>\n",
       "    <tr style=\"text-align: right;\">\n",
       "      <th></th>\n",
       "      <th>Country</th>\n",
       "      <th>League</th>\n",
       "      <th>Club</th>\n",
       "      <th>Player Names</th>\n",
       "      <th>Matches_Played</th>\n",
       "      <th>Substitution</th>\n",
       "      <th>Mins</th>\n",
       "      <th>Goals</th>\n",
       "      <th>xG</th>\n",
       "      <th>xG Per Avg Match</th>\n",
       "      <th>Shots</th>\n",
       "      <th>OnTarget</th>\n",
       "      <th>Shots Per Avg Match</th>\n",
       "      <th>On Target Per Avg Match</th>\n",
       "      <th>Year</th>\n",
       "    </tr>\n",
       "  </thead>\n",
       "  <tbody>\n",
       "    <tr>\n",
       "      <th>0</th>\n",
       "      <td>Spain</td>\n",
       "      <td>La Liga</td>\n",
       "      <td>(BET)</td>\n",
       "      <td>Juanmi Callejon</td>\n",
       "      <td>19</td>\n",
       "      <td>16</td>\n",
       "      <td>1849</td>\n",
       "      <td>11</td>\n",
       "      <td>6.62</td>\n",
       "      <td>0.34</td>\n",
       "      <td>48</td>\n",
       "      <td>20</td>\n",
       "      <td>2.47</td>\n",
       "      <td>1.03</td>\n",
       "      <td>2016</td>\n",
       "    </tr>\n",
       "    <tr>\n",
       "      <th>1</th>\n",
       "      <td>Spain</td>\n",
       "      <td>La Liga</td>\n",
       "      <td>(BAR)</td>\n",
       "      <td>Antoine Griezmann</td>\n",
       "      <td>36</td>\n",
       "      <td>0</td>\n",
       "      <td>3129</td>\n",
       "      <td>16</td>\n",
       "      <td>11.86</td>\n",
       "      <td>0.36</td>\n",
       "      <td>88</td>\n",
       "      <td>41</td>\n",
       "      <td>2.67</td>\n",
       "      <td>1.24</td>\n",
       "      <td>2016</td>\n",
       "    </tr>\n",
       "    <tr>\n",
       "      <th>2</th>\n",
       "      <td>Spain</td>\n",
       "      <td>La Liga</td>\n",
       "      <td>(ATL)</td>\n",
       "      <td>Luis Suarez</td>\n",
       "      <td>34</td>\n",
       "      <td>1</td>\n",
       "      <td>2940</td>\n",
       "      <td>28</td>\n",
       "      <td>23.21</td>\n",
       "      <td>0.75</td>\n",
       "      <td>120</td>\n",
       "      <td>57</td>\n",
       "      <td>3.88</td>\n",
       "      <td>1.84</td>\n",
       "      <td>2016</td>\n",
       "    </tr>\n",
       "    <tr>\n",
       "      <th>3</th>\n",
       "      <td>Spain</td>\n",
       "      <td>La Liga</td>\n",
       "      <td>(CAR)</td>\n",
       "      <td>Ruben Castro</td>\n",
       "      <td>32</td>\n",
       "      <td>3</td>\n",
       "      <td>2842</td>\n",
       "      <td>13</td>\n",
       "      <td>14.06</td>\n",
       "      <td>0.47</td>\n",
       "      <td>117</td>\n",
       "      <td>42</td>\n",
       "      <td>3.91</td>\n",
       "      <td>1.40</td>\n",
       "      <td>2016</td>\n",
       "    </tr>\n",
       "    <tr>\n",
       "      <th>4</th>\n",
       "      <td>Spain</td>\n",
       "      <td>La Liga</td>\n",
       "      <td>(VAL)</td>\n",
       "      <td>Kevin Gameiro</td>\n",
       "      <td>21</td>\n",
       "      <td>10</td>\n",
       "      <td>1745</td>\n",
       "      <td>13</td>\n",
       "      <td>10.65</td>\n",
       "      <td>0.58</td>\n",
       "      <td>50</td>\n",
       "      <td>23</td>\n",
       "      <td>2.72</td>\n",
       "      <td>1.25</td>\n",
       "      <td>2016</td>\n",
       "    </tr>\n",
       "  </tbody>\n",
       "</table>\n",
       "</div>"
      ],
      "text/plain": [
       "  Country   League   Club       Player Names  Matches_Played  Substitution   \\\n",
       "0   Spain  La Liga  (BET)    Juanmi Callejon              19             16   \n",
       "1   Spain  La Liga  (BAR)  Antoine Griezmann              36              0   \n",
       "2   Spain  La Liga  (ATL)        Luis Suarez              34              1   \n",
       "3   Spain  La Liga  (CAR)       Ruben Castro              32              3   \n",
       "4   Spain  La Liga  (VAL)      Kevin Gameiro              21             10   \n",
       "\n",
       "   Mins  Goals     xG  xG Per Avg Match  Shots  OnTarget  Shots Per Avg Match  \\\n",
       "0  1849     11   6.62              0.34     48        20                 2.47   \n",
       "1  3129     16  11.86              0.36     88        41                 2.67   \n",
       "2  2940     28  23.21              0.75    120        57                 3.88   \n",
       "3  2842     13  14.06              0.47    117        42                 3.91   \n",
       "4  1745     13  10.65              0.58     50        23                 2.72   \n",
       "\n",
       "   On Target Per Avg Match  Year  \n",
       "0                     1.03  2016  \n",
       "1                     1.24  2016  \n",
       "2                     1.84  2016  \n",
       "3                     1.40  2016  \n",
       "4                     1.25  2016  "
      ]
     },
     "execution_count": 84,
     "metadata": {},
     "output_type": "execute_result"
    }
   ],
   "source": [
    "a=pd.read_csv(\"Football.csv\")\n",
    "a.head()"
   ]
  },
  {
   "cell_type": "markdown",
   "id": "eb401e3d-61b7-486c-97a2-aa86252f8763",
   "metadata": {},
   "source": [
    "deletes all null values in row wise and column wise respectively"
   ]
  },
  {
   "cell_type": "code",
   "execution_count": 4,
   "id": "6e98a2f8-2f86-4450-96a1-5ed421e3ba0e",
   "metadata": {},
   "outputs": [],
   "source": [
    "a.dropna(inplace=True,axis=0)"
   ]
  },
  {
   "cell_type": "code",
   "execution_count": 5,
   "id": "7613174d-68df-46e0-8d1b-8f4d55c974b8",
   "metadata": {},
   "outputs": [],
   "source": [
    "a.dropna(inplace=True,axis=0)"
   ]
  },
  {
   "cell_type": "markdown",
   "id": "aa0c7f14-1dd7-4ec4-b56f-d44e586a19e1",
   "metadata": {},
   "source": [
    "i)Fillna Function"
   ]
  },
  {
   "cell_type": "code",
   "execution_count": 87,
   "id": "6d45cf4e-8e60-4f86-ada8-4428597d21ab",
   "metadata": {
    "scrolled": true
   },
   "outputs": [
    {
     "data": {
      "text/plain": [
       "Country                    0\n",
       "League                     0\n",
       "Club                       0\n",
       "Player Names               0\n",
       "Matches_Played             0\n",
       "Substitution               0\n",
       "Mins                       0\n",
       "Goals                      0\n",
       "xG                         0\n",
       "xG Per Avg Match           0\n",
       "Shots                      0\n",
       "OnTarget                   0\n",
       "Shots Per Avg Match        0\n",
       "On Target Per Avg Match    0\n",
       "Year                       0\n",
       "dtype: int64"
      ]
     },
     "execution_count": 87,
     "metadata": {},
     "output_type": "execute_result"
    }
   ],
   "source": [
    "a.isnull().sum()"
   ]
  },
  {
   "cell_type": "code",
   "execution_count": 98,
   "id": "a9570caf-f2b6-4c71-a31b-a19ff91d798b",
   "metadata": {
    "scrolled": true
   },
   "outputs": [
    {
     "name": "stdout",
     "output_type": "stream",
     "text": [
      "660\n",
      "10.09\n"
     ]
    }
   ],
   "source": [
    "a=pd.read_csv(\"Football.csv\")\n",
    "print(len(a))\n",
    "b=round(a['xG'].mean(),2)\n",
    "print(b)"
   ]
  },
  {
   "cell_type": "code",
   "execution_count": 95,
   "id": "727415f1-f6c6-4bd4-8809-5233ece5c04c",
   "metadata": {
    "scrolled": true
   },
   "outputs": [
    {
     "name": "stdout",
     "output_type": "stream",
     "text": [
      "660\n"
     ]
    }
   ],
   "source": [
    "a['Club'].fillna(b)\n",
    "a.head()"
   ]
  },
  {
   "cell_type": "code",
   "execution_count": 99,
   "id": "d34e74f5-49c3-4355-9ebf-863bdc5ddd07",
   "metadata": {
    "scrolled": true
   },
   "outputs": [
    {
     "data": {
      "text/plain": [
       "Country                     0\n",
       "League                      0\n",
       "Club                       34\n",
       "Player Names                0\n",
       "Matches_Played              0\n",
       "Substitution                0\n",
       "Mins                        0\n",
       "Goals                       0\n",
       "xG                          0\n",
       "xG Per Avg Match            0\n",
       "Shots                       0\n",
       "OnTarget                    0\n",
       "Shots Per Avg Match         0\n",
       "On Target Per Avg Match     0\n",
       "Year                        0\n",
       "dtype: int64"
      ]
     },
     "execution_count": 99,
     "metadata": {},
     "output_type": "execute_result"
    }
   ],
   "source": [
    "a.isnull().sum()"
   ]
  },
  {
   "cell_type": "markdown",
   "id": "b1c9280d-c4b5-4fe3-b501-97885200812c",
   "metadata": {},
   "source": [
    "j)Sample Function  #Used to generate a random row and column of the data"
   ]
  },
  {
   "cell_type": "code",
   "execution_count": null,
   "id": "52fde3b1-608c-4863-9873-9ac4af572a81",
   "metadata": {},
   "outputs": [],
   "source": [
    "a=pd.csv_read(\"Football.csv\")\n",
    "a.sample()"
   ]
  },
  {
   "cell_type": "markdown",
   "id": "264e5689-270c-4887-a6bc-7ca836b424c9",
   "metadata": {},
   "source": [
    "k)to_csv function"
   ]
  },
  {
   "cell_type": "code",
   "execution_count": null,
   "id": "afb0df74-f896-4d32-9db9-e74487b53d2a",
   "metadata": {
    "scrolled": true
   },
   "outputs": [],
   "source": [
    "import pandas as pd\n",
    "data={'one':pd.Series([1,2,3,4]),\n",
    "      'two':pd.Series([10,20,30,40]),\n",
    "      'three':pd.Series([100,200,300,400]),\n",
    "      'four':pd.Series([1000,2000,3000,4000])\n",
    "      }\n",
    "a=pd.DataFrame(data)\n",
    "a"
   ]
  },
  {
   "cell_type": "code",
   "execution_count": null,
   "id": "dffbb719-0ba9-4ad8-b98e-9897aa0d75fb",
   "metadata": {},
   "outputs": [],
   "source": [
    "a.to_csv(\"Number.csv\")"
   ]
  },
  {
   "cell_type": "markdown",
   "id": "e411d082-9580-4e9c-8a11-4112832377db",
   "metadata": {},
   "source": [
    "Remove the first unwanted columns"
   ]
  },
  {
   "cell_type": "code",
   "execution_count": null,
   "id": "12acbd6d-40e4-4d78-b6ca-f2e9d5275490",
   "metadata": {
    "scrolled": true
   },
   "outputs": [],
   "source": [
    "a=pd.read_csv(\"Number.csv\")\n",
    "a"
   ]
  },
  {
   "cell_type": "code",
   "execution_count": null,
   "id": "46f5d29a-0062-4988-9195-7a0812526861",
   "metadata": {},
   "outputs": [],
   "source": [
    "a.to_csv(\"Number.csv\",index=False)"
   ]
  }
 ],
 "metadata": {
  "kernelspec": {
   "display_name": "Python 3 (ipykernel)",
   "language": "python",
   "name": "python3"
  },
  "language_info": {
   "codemirror_mode": {
    "name": "ipython",
    "version": 3
   },
   "file_extension": ".py",
   "mimetype": "text/x-python",
   "name": "python",
   "nbconvert_exporter": "python",
   "pygments_lexer": "ipython3",
   "version": "3.12.4"
  }
 },
 "nbformat": 4,
 "nbformat_minor": 5
}
