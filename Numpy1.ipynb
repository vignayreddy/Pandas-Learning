{
 "cells": [
  {
   "cell_type": "code",
   "execution_count": null,
   "id": "16251433-ea14-400b-9b9b-6e5c4072fe58",
   "metadata": {},
   "outputs": [],
   "source": [
    "WORKING WITH NUMPY ARRAYS"
   ]
  },
  {
   "cell_type": "markdown",
   "id": "3fd06048-e3de-4ffc-b1f5-94a9fc1f58e7",
   "metadata": {},
   "source": [
    "#1)Converting list to array"
   ]
  },
  {
   "cell_type": "code",
   "execution_count": 2,
   "id": "3e0ca411-5d85-4c39-9a1c-39997503013b",
   "metadata": {
    "scrolled": true
   },
   "outputs": [
    {
     "name": "stdout",
     "output_type": "stream",
     "text": [
      "[1 2 3 4 5]\n",
      "<class 'numpy.ndarray'>\n",
      "[1 2 3 4 5]\n",
      "[[1 2 3 4 5]]\n"
     ]
    }
   ],
   "source": [
    "import numpy as np\n",
    "l1 = [1, 2, 3, 4, 5]\n",
    "a = np.array(l1)\n",
    "print(a)\n",
    "print(type(a))\n",
    "arr=np.array(l1,ndmin=1)\n",
    "print(arr)\n",
    "arr=np.array(l1,ndmin=2)\n",
    "print(arr)"
   ]
  },
  {
   "cell_type": "markdown",
   "id": "9fcd1d4f-d650-4831-b5cd-abbfda63a045",
   "metadata": {},
   "source": [
    "#2)Arange Function"
   ]
  },
  {
   "cell_type": "code",
   "execution_count": 3,
   "id": "bc6b21aa-eb29-461b-8139-f03c29e4e05c",
   "metadata": {},
   "outputs": [
    {
     "name": "stdout",
     "output_type": "stream",
     "text": [
      "[1 2 3 4 5 6 7 8 9]\n"
     ]
    }
   ],
   "source": [
    "a=np.arange(1,10)\n",
    "print(a)#[1 2 3 4 5 6 7 8 9]                "
   ]
  },
  {
   "cell_type": "markdown",
   "id": "af654a3e-32a0-4061-93ed-a044310f14d0",
   "metadata": {},
   "source": [
    "#3)Multidimensional Array"
   ]
  },
  {
   "cell_type": "code",
   "execution_count": 4,
   "id": "f3e2da70-c997-4faa-93aa-63c3500b4f6d",
   "metadata": {
    "scrolled": true
   },
   "outputs": [
    {
     "name": "stdout",
     "output_type": "stream",
     "text": [
      "[[ 1  2  3]\n",
      " [ 4  5  6]\n",
      " [ 7  8  9]\n",
      " [10 11 12]]\n"
     ]
    }
   ],
   "source": [
    "l1=[[1,2,3],[4,5,6],[7,8,9],[10,11,12]]\n",
    "print(np.array(l1))"
   ]
  },
  {
   "cell_type": "markdown",
   "id": "eadd8b2a-b2ea-4469-ba38-dd8f0ae1dd85",
   "metadata": {},
   "source": [
    "#4)Size function"
   ]
  },
  {
   "cell_type": "code",
   "execution_count": 5,
   "id": "8955265c-9043-4b7a-9f9b-37c7bb5c5b73",
   "metadata": {
    "scrolled": true
   },
   "outputs": [
    {
     "name": "stdout",
     "output_type": "stream",
     "text": [
      "12\n",
      "Total : 12\n",
      "Rows : 4\n",
      "Columns : 3\n",
      "12\n"
     ]
    }
   ],
   "source": [
    "arr=np.array(l1)\n",
    "b=arr.size#12\n",
    "print(b)\n",
    "print(\"Total :\",arr.size)\n",
    "print(\"Rows :\",np.size(arr,0))\n",
    "print(\"Columns :\",np.size(arr,1))\n",
    "print(np.size(arr))"
   ]
  },
  {
   "cell_type": "markdown",
   "id": "f158b16c-c3ff-4da9-8b95-e5103921dcae",
   "metadata": {},
   "source": [
    "#5)Shape Function"
   ]
  },
  {
   "cell_type": "code",
   "execution_count": 6,
   "id": "34518936-24c5-47e5-ae51-5abfecd0f5db",
   "metadata": {},
   "outputs": [
    {
     "name": "stdout",
     "output_type": "stream",
     "text": [
      "(4, 3)\n"
     ]
    }
   ],
   "source": [
    "print(arr.shape)                                   "
   ]
  },
  {
   "cell_type": "markdown",
   "id": "689ddd9a-ec98-45a9-bb0d-99bbfb2f40e6",
   "metadata": {},
   "source": [
    "#6)Dtype"
   ]
  },
  {
   "cell_type": "code",
   "execution_count": 7,
   "id": "a7c78dd0-6479-4f5d-8d2a-7c1a785b9173",
   "metadata": {
    "scrolled": true
   },
   "outputs": [
    {
     "name": "stdout",
     "output_type": "stream",
     "text": [
      "int64\n"
     ]
    }
   ],
   "source": [
    "print(arr.dtype)#int32                                       "
   ]
  },
  {
   "cell_type": "markdown",
   "id": "9656b4bf-dda3-444a-b4a3-65d3093703f5",
   "metadata": {},
   "source": [
    "#7)Ndim Function"
   ]
  },
  {
   "cell_type": "code",
   "execution_count": 8,
   "id": "faa376e6-18f6-47b6-92dc-27b322292b9c",
   "metadata": {
    "scrolled": true
   },
   "outputs": [
    {
     "name": "stdout",
     "output_type": "stream",
     "text": [
      "1\n",
      "2\n"
     ]
    }
   ],
   "source": [
    "arr1=np.array([1,2,3,4,5])\n",
    "arr2=np.array([[1,2,3],[4,5,6]])\n",
    "print(arr1.ndim)#1\n",
    "print(arr2.ndim)#2                          "
   ]
  },
  {
   "cell_type": "markdown",
   "id": "5c8d0e78-04c6-4703-8395-b69f5c4a64e1",
   "metadata": {},
   "source": [
    "#8)Zeroes function"
   ]
  },
  {
   "cell_type": "code",
   "execution_count": 9,
   "id": "0559f787-f1b7-405a-a338-c563fc0f791c",
   "metadata": {
    "scrolled": true
   },
   "outputs": [
    {
     "name": "stdout",
     "output_type": "stream",
     "text": [
      "[[0 0 0 0 0]\n",
      " [0 0 0 0 0]\n",
      " [0 0 0 0 0]]\n"
     ]
    }
   ],
   "source": [
    "a=np.zeros(shape=(3,5),dtype=int)\n",
    "print(a)"
   ]
  },
  {
   "cell_type": "markdown",
   "id": "1d1664a5-1660-44a5-bc19-a6aa2796ac08",
   "metadata": {},
   "source": [
    "#9)Ones Function"
   ]
  },
  {
   "cell_type": "code",
   "execution_count": 10,
   "id": "507ec14f-7f98-46bb-bd20-2f78a25b061e",
   "metadata": {
    "scrolled": true
   },
   "outputs": [
    {
     "name": "stdout",
     "output_type": "stream",
     "text": [
      "[[1 1 1 1 1]\n",
      " [1 1 1 1 1]\n",
      " [1 1 1 1 1]]\n"
     ]
    }
   ],
   "source": [
    "a=np.ones((3,5),dtype=int)\n",
    "print(a)"
   ]
  },
  {
   "cell_type": "markdown",
   "id": "bc277475-b279-41c8-8cd3-8c1b660e851f",
   "metadata": {},
   "source": [
    "#10)Eye Function"
   ]
  },
  {
   "cell_type": "code",
   "execution_count": 11,
   "id": "e35b0020-b60f-4090-9d2b-300fe610b448",
   "metadata": {
    "scrolled": true
   },
   "outputs": [
    {
     "name": "stdout",
     "output_type": "stream",
     "text": [
      "[[1 0]\n",
      " [0 1]]\n"
     ]
    }
   ],
   "source": [
    "a=np.eye(2,dtype=int)\n",
    "print(a)"
   ]
  },
  {
   "cell_type": "markdown",
   "id": "11e42b9d-7ac5-4eb5-be56-192c65056733",
   "metadata": {},
   "source": [
    "#11)Empty Function"
   ]
  },
  {
   "cell_type": "code",
   "execution_count": 15,
   "id": "f8b4a22a-6e36-4775-8a4d-23224eb9fdd6",
   "metadata": {
    "scrolled": true
   },
   "outputs": [
    {
     "name": "stdout",
     "output_type": "stream",
     "text": [
      "[[6.23042070e-307 4.67296746e-307 1.69121096e-306 1.02360528e-306\n",
      "  1.89146896e-307]\n",
      " [7.56571288e-307 3.11525958e-307 1.24610723e-306 1.37962320e-306\n",
      "  1.29060871e-306]\n",
      " [2.22518251e-306 1.33511969e-306 1.78022342e-306 1.05700345e-307\n",
      "  3.11525958e-307]\n",
      " [1.69118108e-306 8.06632139e-308 1.20160711e-306 1.69119330e-306\n",
      "  1.29062229e-306]\n",
      " [1.24610383e-306 6.89804132e-307 1.69121096e-306 8.34449382e-308\n",
      "  3.91792476e-317]]\n"
     ]
    }
   ],
   "source": [
    "a=np.empty(shape=(5,5))\n",
    "print(a)"
   ]
  },
  {
   "cell_type": "markdown",
   "id": "1261b062-5459-408e-acef-db2d607aa5dd",
   "metadata": {},
   "source": [
    "#12)Random Functions"
   ]
  },
  {
   "cell_type": "code",
   "execution_count": 23,
   "id": "a2a674cf-7f93-45e1-9355-361fdb320a64",
   "metadata": {
    "scrolled": true
   },
   "outputs": [
    {
     "name": "stdout",
     "output_type": "stream",
     "text": [
      "[[0.49120313 0.67480993 0.79085418 0.98268749]\n",
      " [0.08408068 0.63121211 0.5769749  0.65064218]\n",
      " [0.54317945 0.55736739 0.86855463 0.45201162]]\n",
      "**************************************************\n",
      "[9 1 7 9 4 8 2 9 3 9]\n",
      "**************************************************\n",
      "[ 1.25315098  0.27158045  0.98768745 -0.03352928  1.4594122  -0.6260932\n",
      "  2.10780181  0.89805593  0.19170972 -0.10059093 -0.54162819  0.41210651\n",
      "  0.14951691  0.01128928 -0.10067408 -0.23023787  0.46496484  1.56212729\n",
      "  0.37007671  1.68688756 -0.17652936  0.50500309 -0.60345071  0.10003706\n",
      " -2.13670184  1.41637768 -0.19494764 -0.24067623  0.33601784  1.7280586\n",
      " -2.1644261   2.13160933 -1.33481003  0.32040639 -0.1407898   0.78043054\n",
      " -1.23981775  0.49830881 -1.17526863 -1.30327927 -0.28830829 -0.06351179\n",
      " -1.00079185  0.48627021  1.62435725  1.40321161 -1.07919619  1.02647794\n",
      "  1.00185936 -0.81538421 -1.06777578 -0.34342124 -0.34221622  0.63665726\n",
      "  0.23409143 -0.05782493  1.71503601 -0.50306832  0.80173409 -0.16986612\n",
      " -0.1586508   1.80349917 -0.22762561 -0.69402718 -1.82885565 -0.07948236\n",
      " -1.45455017  0.17353726  3.31626927 -0.67147021  1.16581191  0.82368731\n",
      " -0.53360494  1.61713883  1.05992305 -0.12499666  1.34077149 -0.77287676\n",
      " -1.8510219   0.46764415  1.50491158  0.99874138 -2.10004945  0.35718436\n",
      " -0.82712869 -0.08815673 -0.75910412 -0.44617598  0.2870797   0.10407161\n",
      " -0.78274819  1.29544503 -0.72139255  0.00980524  0.55150972 -0.90900278\n",
      "  1.05778435  0.3149027  -0.105529    0.34798488]\n"
     ]
    }
   ],
   "source": [
    "a=np.random.rand(3,4)\n",
    "print(a)#range is from 0 to 1\n",
    "print(\"*\"*50)\n",
    "a=np.random.randint(low=1,high=10,size=10)\n",
    "print(a)#[7 2 9 4 7 1 2 1 4 3]\n",
    "print(\"*\"*50)\n",
    "a=np.random.randn(100)\n",
    "print(a)#generally between -1 to 1"
   ]
  },
  {
   "cell_type": "markdown",
   "id": "3b34d37f-fbc6-4656-8a63-d76b4800a281",
   "metadata": {},
   "source": [
    "#13)Reshape Function-Will not alter the original data"
   ]
  },
  {
   "cell_type": "code",
   "execution_count": 25,
   "id": "0987109c-980c-4d72-8a44-edac26872116",
   "metadata": {
    "scrolled": true
   },
   "outputs": [
    {
     "name": "stdout",
     "output_type": "stream",
     "text": [
      "[[10 14  3 10]\n",
      " [ 2 12  2  2]\n",
      " [13  7  9  4]]\n",
      "(3, 4)\n",
      "*****\n",
      "[[10 14  3]\n",
      " [10  2 12]\n",
      " [ 2  2 13]\n",
      " [ 7  9  4]]\n"
     ]
    }
   ],
   "source": [
    "a=np.random.randint(1,15,(3,4))\n",
    "print(a)\n",
    "print(a.shape)\n",
    "print(\"*\"*5)\n",
    "a=a.reshape(4,3)\n",
    "print(a)\n",
    "#elements must be sufficient for reshaping"
   ]
  },
  {
   "cell_type": "markdown",
   "id": "9d1aa92f-1b72-4ab1-8ce9-b545f3e2115e",
   "metadata": {},
   "source": [
    "#14)Linspace Function"
   ]
  },
  {
   "cell_type": "code",
   "execution_count": 26,
   "id": "29e4cab3-31a9-493d-bd1d-fb71055c45e1",
   "metadata": {
    "scrolled": true
   },
   "outputs": [
    {
     "name": "stdout",
     "output_type": "stream",
     "text": [
      "[ 1.    3.25  5.5   7.75 10.  ]\n"
     ]
    }
   ],
   "source": [
    "a=np.linspace(1,10,5)\n",
    "print(a)#[ 1.    3.25  5.5   7.75 10.  ],start,stop,and numbers"
   ]
  },
  {
   "cell_type": "markdown",
   "id": "adf525e0-b9f3-471f-8644-c515a0f3b311",
   "metadata": {},
   "source": [
    "#15)Flatten Function"
   ]
  },
  {
   "cell_type": "code",
   "execution_count": 27,
   "id": "0058d024-5eba-440f-bba8-d2c8a8e2cbc7",
   "metadata": {
    "scrolled": true
   },
   "outputs": [
    {
     "name": "stdout",
     "output_type": "stream",
     "text": [
      "(3, 4)\n",
      "[[ 3 11 10 14]\n",
      " [ 6 10  4  3]\n",
      " [14  7  2  4]]\n",
      "(12,)\n",
      "[ 3 11 10 14  6 10  4  3 14  7  2  4]\n"
     ]
    }
   ],
   "source": [
    "a=np.random.randint(1,15,(3,4))\n",
    "print(a.shape)\n",
    "print(a)\n",
    "a=a.flatten()\n",
    "print(a.shape)\n",
    "print(a)#Flattens it in a single line"
   ]
  },
  {
   "cell_type": "markdown",
   "id": "29e1b8bb-2c89-4d59-bb87-b5b40dad8d1f",
   "metadata": {},
   "source": [
    "#16)Logspace"
   ]
  },
  {
   "cell_type": "code",
   "execution_count": 28,
   "id": "17c4d9c9-6710-4a84-8f92-5c27ab731e57",
   "metadata": {
    "scrolled": true
   },
   "outputs": [
    {
     "name": "stdout",
     "output_type": "stream",
     "text": [
      "[ 4.          4.66611616  5.44316     6.34960421  7.4069977   8.64047791\n",
      " 10.0793684  11.75787594 13.71590373 16.        ]\n"
     ]
    }
   ],
   "source": [
    "a=np.logspace(2,4,10,base=2)\n",
    "print(a)#simlar to linespace"
   ]
  },
  {
   "cell_type": "markdown",
   "id": "426d9e9a-78a9-4d8b-985c-e900cb7a1c1e",
   "metadata": {},
   "source": [
    "#17)Copy Function"
   ]
  },
  {
   "cell_type": "code",
   "execution_count": 29,
   "id": "43a77c47-fcdb-470c-9ae4-ecc3ec0069b1",
   "metadata": {
    "scrolled": true
   },
   "outputs": [
    {
     "name": "stdout",
     "output_type": "stream",
     "text": [
      "[3 4 4 8 2 4 8 4 7 9] 2025172599120\n",
      "[3 4 4 8 2 4 8 4 7 9] 2025172599120\n",
      "[6 1 1 6 6 5 9 8 7 2] 2025544777040\n",
      "[6 1 1 6 6 5 9 8 7 2] 2025544777328\n"
     ]
    }
   ],
   "source": [
    "a1=np.random.randint(1,10,10);\n",
    "a2=a1\n",
    "print(a1,id(a1))\n",
    "print(a2,id(a2))#Both are same and have same id\n",
    "a1=np.random.randint(1,10,10);\n",
    "a2=np.copy(a1)\n",
    "print(a1,id(a1))\n",
    "print(a2,id(a2))#Both are same but different id's"
   ]
  },
  {
   "cell_type": "markdown",
   "id": "c32384e5-e4b5-4475-8d8f-d0ec6b9237c9",
   "metadata": {},
   "source": [
    "#18)arr.max(),arr.min(),arr.sum() functions"
   ]
  },
  {
   "cell_type": "code",
   "execution_count": 31,
   "id": "c81a2902-a97b-4edc-a74d-c4feb6b536ef",
   "metadata": {
    "scrolled": true
   },
   "outputs": [
    {
     "name": "stdout",
     "output_type": "stream",
     "text": [
      "[[ 5 12  9 13 14]\n",
      " [12  5  3  7  1]\n",
      " [ 3 10  1  9  2]]\n",
      "**********\n",
      "Max: 14\n",
      "Min: 1\n",
      "Sum: 106\n",
      "**********\n",
      "Max: [12 12  9 13 14]\n",
      "Min: [3 5 1 7 1]\n",
      "Sum: [20 27 13 29 17]\n",
      "**********\n",
      "Max: [14 12 10]\n",
      "Min: [5 1 1]\n",
      "Sum: [53 28 25]\n"
     ]
    }
   ],
   "source": [
    "a=np.random.randint(1,15,(3,5))\n",
    "print(a)\n",
    "# Max: 13\n",
    "# Min: 1\n",
    "# Sum: 104\n",
    "print(\"*\"*10)\n",
    "print(\"Max:\",a.max())\n",
    "print(\"Min:\",a.min())\n",
    "print(\"Sum:\",a.sum())\n",
    " #FOR COLUMNS\n",
    "print(\"*\"*10)\n",
    "print(\"Max:\",a.max(axis=0))\n",
    "print(\"Min:\",a.min(axis=0))\n",
    "print(\"Sum:\",a.sum(axis=0))\n",
    " #FOR ROWS\n",
    "print(\"*\"*10)\n",
    "print(\"Max:\",a.max(axis=1))\n",
    "print(\"Min:\",a.min(axis=1))\n",
    "print(\"Sum:\",a.sum(axis=1))"
   ]
  },
  {
   "cell_type": "markdown",
   "id": "716f1ba3-8cd2-4cca-8a67-24e5cc9753c5",
   "metadata": {},
   "source": [
    "#19)Seed Function"
   ]
  },
  {
   "cell_type": "code",
   "execution_count": 32,
   "id": "99d12502-d096-4c13-b771-2dd88e13a6d4",
   "metadata": {
    "scrolled": true
   },
   "outputs": [
    {
     "name": "stdout",
     "output_type": "stream",
     "text": [
      "[[9 4 9 9 1]\n",
      " [6 4 6 8 7]\n",
      " [1 5 8 9 2]]\n"
     ]
    }
   ],
   "source": [
    "a=np.random.seed(3)\n",
    "arr=np.random.randint(1,10,(3,5))\n",
    "print(arr)"
   ]
  },
  {
   "cell_type": "markdown",
   "id": "651a3ffe-e58e-4104-883c-c172e297bb3c",
   "metadata": {},
   "source": [
    "#20)Sorting function"
   ]
  },
  {
   "cell_type": "code",
   "execution_count": 33,
   "id": "e6962552-c4c6-4da8-a32c-63b703dd985b",
   "metadata": {
    "scrolled": true
   },
   "outputs": [
    {
     "name": "stdout",
     "output_type": "stream",
     "text": [
      "[[6 2 1 2 4]\n",
      " [7 3 2 6 5]\n",
      " [9 9 3 9 8]]\n",
      "[[2 3 3 4 7]\n",
      " [2 6 8 9 9]\n",
      " [1 2 5 6 9]]\n",
      "[6 2 1 2 4 7 3 2 6 5 9 9 3 9 8]\n",
      "[[1 2 2 2 3]\n",
      " [3 4 5 6 6]\n",
      " [7 8 9 9 9]]\n"
     ]
    }
   ],
   "source": [
    "a=np.random.randint(1,10,(3,5))\n",
    "b=np.sort(a,axis=0)\n",
    "c=np.sort(a,axis=1,kind=\"mergesort\")\n",
    "print(b)\n",
    "print(c)\n",
    "d=b.flatten()\n",
    "print(d)\n",
    "e=np.sort(d)\n",
    "##RESHAPING\n",
    "f=np.reshape(np.sort(a.flatten()),a.shape)\n",
    "print(f)\n",
    "##(KIND) IS USED TO DEFINE meresort,quicksort"
   ]
  },
  {
   "cell_type": "markdown",
   "id": "f0a9b4f6-c095-4928-91cb-a507b3983c47",
   "metadata": {},
   "source": [
    "#21)Mathematical Operations"
   ]
  },
  {
   "cell_type": "code",
   "execution_count": 34,
   "id": "55b7a4c4-ede7-48e0-b6da-8569d8742cf2",
   "metadata": {
    "scrolled": true
   },
   "outputs": [
    {
     "name": "stdout",
     "output_type": "stream",
     "text": [
      "[[10  5 10 10  2]\n",
      " [ 7  5  7  9  8]\n",
      " [ 2  6  9 10  3]]\n",
      "[[8 3 8 8 0]\n",
      " [5 3 5 7 6]\n",
      " [0 4 7 8 1]]\n",
      "[[18  8 18 18  2]\n",
      " [12  8 12 16 14]\n",
      " [ 2 10 16 18  4]]\n",
      "[[4.5 2.  4.5 4.5 0.5]\n",
      " [3.  2.  3.  4.  3.5]\n",
      " [0.5 2.5 4.  4.5 1. ]]\n",
      "[[4 2 4 4 0]\n",
      " [3 2 3 4 3]\n",
      " [0 2 4 4 1]]\n",
      "[[7 3]\n",
      " [3 2]]\n",
      "[[4 6]\n",
      " [9 2]]\n",
      "[[28 18]\n",
      " [27  4]]\n",
      "[[55 48]\n",
      " [30 22]]\n",
      "[[7 3]\n",
      " [3 2]]\n",
      "[[49  9]\n",
      " [ 9  4]]\n"
     ]
    }
   ],
   "source": [
    "#a)Addition\n",
    "a=np.random.seed(3)\n",
    "arr=np.random.randint(1,10,(3,5))\n",
    "print(arr+1)\n",
    "#b)Subtraction\n",
    "print(arr-1)\n",
    "#c)Multiplication\n",
    "print(arr*2)\n",
    "#d)Division\n",
    "print(arr/2)\n",
    "#5)Floor Division\n",
    "print(arr//2)\n",
    "#6)Matrix Multiplication-------------------------------------------------------\n",
    "arr1=np.random.randint(1,10,(2,2))\n",
    "arr2=np.random.randint(1,10,(2,2))\n",
    "print(arr1)\n",
    "print(arr2)\n",
    "print(arr1*arr2)\n",
    "print(arr1.dot(arr2))\n",
    "#7)Power\n",
    "print(arr1)\n",
    "print(arr1**2)"
   ]
  },
  {
   "cell_type": "markdown",
   "id": "9389d37b-a2d0-4fe4-bb3c-50a29aa16c8d",
   "metadata": {},
   "source": [
    "#22)Percentile Function"
   ]
  },
  {
   "cell_type": "code",
   "execution_count": 20,
   "id": "99b5a0f9-b9ba-4725-b11f-ba437c954a31",
   "metadata": {
    "scrolled": true
   },
   "outputs": [
    {
     "name": "stdout",
     "output_type": "stream",
     "text": [
      "[9 4 9 9 1 6 4 6 8 7]\n",
      "6.5\n"
     ]
    }
   ],
   "source": [
    "np.random.seed(3)\n",
    "arr=np.random.randint(1,10,10)\n",
    "print(arr)\n",
    "arr=np.sort(arr)\n",
    "print(np.percentile(arr,50))       "
   ]
  },
  {
   "cell_type": "markdown",
   "id": "d8edccbf-a318-458b-8e61-0c1396caa77c",
   "metadata": {},
   "source": [
    "#23)Mean,Variance and Standard deviation"
   ]
  },
  {
   "cell_type": "code",
   "execution_count": 19,
   "id": "79a6f56b-95f1-49e0-abfb-995687fb4649",
   "metadata": {
    "scrolled": true
   },
   "outputs": [
    {
     "name": "stdout",
     "output_type": "stream",
     "text": [
      "[144 123 176 192 120 141 139 194 161 130]\n",
      "152.0\n",
      "672.4\n",
      "25.93067681338071\n"
     ]
    }
   ],
   "source": [
    "np.random.seed(3)\n",
    "a=np.random.randint(120,200,10)\n",
    "print(a)\n",
    "print(a.mean())\n",
    "print(a.var())\n",
    "print(a.std())"
   ]
  },
  {
   "cell_type": "markdown",
   "id": "62405dd9-5bf1-4b0b-91f1-874267cfe747",
   "metadata": {},
   "source": [
    "#24)Filtering an numpy array"
   ]
  },
  {
   "cell_type": "code",
   "execution_count": 18,
   "id": "62118e25-3ecc-4d03-8ba0-4b80a18ddb5f",
   "metadata": {
    "scrolled": true
   },
   "outputs": [
    {
     "name": "stdout",
     "output_type": "stream",
     "text": [
      "[1 2 3 4 5 6 7 8 9]\n",
      "[False False False False False  True  True  True  True]\n",
      "[6 7 8 9]\n",
      "[ 1  2  3  4  5 10 10 10 10]\n"
     ]
    }
   ],
   "source": [
    "arr=np.arange(1,10)\n",
    "print(arr)\n",
    "print(arr>5)\n",
    "arr2=arr[arr>5]\n",
    "print(arr2)\n",
    "arr[arr>5]=10\n",
    "print(arr)"
   ]
  },
  {
   "cell_type": "markdown",
   "id": "1f18a820-0125-4ea0-9674-d0fd0fa5b98c",
   "metadata": {},
   "source": [
    "#25)Transposing an array"
   ]
  },
  {
   "cell_type": "code",
   "execution_count": 17,
   "id": "2d1c0be6-0f9c-4d4b-b49d-a4b596b8af15",
   "metadata": {
    "scrolled": true
   },
   "outputs": [
    {
     "name": "stdout",
     "output_type": "stream",
     "text": [
      "[[8 2 1]\n",
      " [1 6 9]]\n",
      "[[8 1]\n",
      " [2 6]\n",
      " [1 9]]\n",
      "(3, 2)\n"
     ]
    }
   ],
   "source": [
    "a=np.random.randint(1,10,(2,3))\n",
    "print(a)\n",
    "b=a.T\n",
    "print(b)\n",
    "print(b.shape)                     "
   ]
  },
  {
   "cell_type": "markdown",
   "id": "844b859a-3e05-4e6a-8928-f1d5514d9ba3",
   "metadata": {},
   "source": [
    "#26)Where Function"
   ]
  },
  {
   "cell_type": "code",
   "execution_count": 16,
   "id": "54a764ff-7d37-4686-8343-7528a6cbcc48",
   "metadata": {
    "scrolled": true
   },
   "outputs": [
    {
     "name": "stdout",
     "output_type": "stream",
     "text": [
      "[ 2 19 64  3 88 21 63 82 23 93]\n",
      "[100  19 100   3 100  21  63 100  23  93]\n"
     ]
    }
   ],
   "source": [
    "arr=np.random.randint(1,100,10)\n",
    "print(arr)\n",
    "print(np.where(arr%2==0,100,arr))"
   ]
  },
  {
   "cell_type": "markdown",
   "id": "3897f87f-c792-4082-a169-036f2af12fdf",
   "metadata": {},
   "source": [
    "#27)Merging arrays"
   ]
  },
  {
   "cell_type": "code",
   "execution_count": 14,
   "id": "9c55b7cf-f24a-4cd4-984d-e4c9ee78e07f",
   "metadata": {
    "scrolled": true
   },
   "outputs": [
    {
     "name": "stdout",
     "output_type": "stream",
     "text": [
      "[[9 8 5 1]\n",
      " [1 5 4 1]]\n",
      "[[9 3 8 3]\n",
      " [2 4 3 5]]\n",
      "****************************************\n",
      "[[9 8 5 1]\n",
      " [1 5 4 1]\n",
      " [9 3 8 3]\n",
      " [2 4 3 5]]\n",
      "[[9 8 5 1 9 3 8 3]\n",
      " [1 5 4 1 2 4 3 5]]\n",
      "****************************************\n",
      "[[9 8 5 1]\n",
      " [1 5 4 1]\n",
      " [9 3 8 3]\n",
      " [2 4 3 5]]\n",
      "[[9 8 5 1 9 3 8 3]\n",
      " [1 5 4 1 2 4 3 5]]\n"
     ]
    }
   ],
   "source": [
    "a1=np.random.randint(1,10,(2,4))\n",
    "a2=np.random.randint(1,10,(2,4))\n",
    "print(a1)\n",
    "print(a2)\n",
    "print(\"*\"*40)\n",
    "print(np.concatenate((a1,a2),axis=0))\n",
    "print(np.concatenate((a1,a2),axis=1))\n",
    "#VStack and HStack\n",
    "print(\"*\"*40)\n",
    "print(np.vstack((a1,a2)))\n",
    "print(np.hstack((a1,a2)))"
   ]
  },
  {
   "cell_type": "markdown",
   "id": "d039e88e-bf69-4908-9dad-2ba99f128373",
   "metadata": {},
   "source": [
    "#28)Splitting the arrays"
   ]
  },
  {
   "cell_type": "code",
   "execution_count": 12,
   "id": "d51d1d6a-aa5d-445c-9850-48a67bd506e7",
   "metadata": {
    "scrolled": true
   },
   "outputs": [
    {
     "name": "stdout",
     "output_type": "stream",
     "text": [
      "[array([[4, 1, 1, 1],\n",
      "       [1, 3, 3, 8]], dtype=int32), array([[1, 6, 1, 2],\n",
      "       [5, 2, 3, 3]], dtype=int32)]\n",
      "[array([[4, 1],\n",
      "       [1, 3],\n",
      "       [1, 6],\n",
      "       [5, 2]], dtype=int32), array([[1, 1],\n",
      "       [3, 8],\n",
      "       [1, 2],\n",
      "       [3, 3]], dtype=int32)]\n"
     ]
    }
   ],
   "source": [
    "a=np.random.randint(1,10,(4,4))\n",
    "print(np.vsplit(a,2))\n",
    "print(np.hsplit(a,2))"
   ]
  }
 ],
 "metadata": {
  "kernelspec": {
   "display_name": "Python 3 (ipykernel)",
   "language": "python",
   "name": "python3"
  },
  "language_info": {
   "codemirror_mode": {
    "name": "ipython",
    "version": 3
   },
   "file_extension": ".py",
   "mimetype": "text/x-python",
   "name": "python",
   "nbconvert_exporter": "python",
   "pygments_lexer": "ipython3",
   "version": "3.12.4"
  }
 },
 "nbformat": 4,
 "nbformat_minor": 5
}
